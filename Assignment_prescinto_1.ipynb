{
 "cells": [
  {
   "cell_type": "code",
   "execution_count": 1,
   "metadata": {},
   "outputs": [],
   "source": [
    "import pandas as pd\n",
    "import numpy as np\n",
    "import matplotlib.pyplot as plt\n",
    "%matplotlib inline\n",
    "import seaborn as sns\n",
    "\n",
    "import warnings\n",
    "warnings.filterwarnings(\"ignore\")"
   ]
  },
  {
   "cell_type": "code",
   "execution_count": 2,
   "metadata": {},
   "outputs": [
    {
     "data": {
      "text/html": [
       "<div>\n",
       "<style scoped>\n",
       "    .dataframe tbody tr th:only-of-type {\n",
       "        vertical-align: middle;\n",
       "    }\n",
       "\n",
       "    .dataframe tbody tr th {\n",
       "        vertical-align: top;\n",
       "    }\n",
       "\n",
       "    .dataframe thead th {\n",
       "        text-align: right;\n",
       "    }\n",
       "</style>\n",
       "<table border=\"1\" class=\"dataframe\">\n",
       "  <thead>\n",
       "    <tr style=\"text-align: right;\">\n",
       "      <th></th>\n",
       "      <th>date_time</th>\n",
       "      <th>inverter_id</th>\n",
       "      <th>ac_frequency</th>\n",
       "      <th>active_power</th>\n",
       "      <th>pv_current</th>\n",
       "      <th>pv_volt</th>\n",
       "      <th>reactive_power</th>\n",
       "      <th>daily_energy</th>\n",
       "      <th>ac_current</th>\n",
       "      <th>avg_ac_volt</th>\n",
       "      <th>module_temp</th>\n",
       "      <th>ambient_temp</th>\n",
       "      <th>wind_speed</th>\n",
       "      <th>irradiance</th>\n",
       "      <th>alarm_name</th>\n",
       "      <th>alarm_message</th>\n",
       "    </tr>\n",
       "  </thead>\n",
       "  <tbody>\n",
       "    <tr>\n",
       "      <th>0</th>\n",
       "      <td>01-11-2020 06:30</td>\n",
       "      <td>1</td>\n",
       "      <td>50.02</td>\n",
       "      <td>0.0</td>\n",
       "      <td>0.0</td>\n",
       "      <td>464.58</td>\n",
       "      <td>0.0</td>\n",
       "      <td>0.0</td>\n",
       "      <td>0.0</td>\n",
       "      <td>271.53</td>\n",
       "      <td>14.12</td>\n",
       "      <td>18.06</td>\n",
       "      <td>0.28</td>\n",
       "      <td>0.00</td>\n",
       "      <td>NaN</td>\n",
       "      <td>NaN</td>\n",
       "    </tr>\n",
       "    <tr>\n",
       "      <th>1</th>\n",
       "      <td>01-11-2020 06:35</td>\n",
       "      <td>1</td>\n",
       "      <td>50.01</td>\n",
       "      <td>0.0</td>\n",
       "      <td>0.0</td>\n",
       "      <td>570.72</td>\n",
       "      <td>0.0</td>\n",
       "      <td>0.0</td>\n",
       "      <td>0.0</td>\n",
       "      <td>270.97</td>\n",
       "      <td>14.17</td>\n",
       "      <td>18.08</td>\n",
       "      <td>0.28</td>\n",
       "      <td>0.00</td>\n",
       "      <td>Operating State</td>\n",
       "      <td>Inverter waiting for PV voltage</td>\n",
       "    </tr>\n",
       "    <tr>\n",
       "      <th>2</th>\n",
       "      <td>01-11-2020 06:40</td>\n",
       "      <td>1</td>\n",
       "      <td>50.03</td>\n",
       "      <td>0.0</td>\n",
       "      <td>0.0</td>\n",
       "      <td>625.72</td>\n",
       "      <td>0.0</td>\n",
       "      <td>0.0</td>\n",
       "      <td>0.0</td>\n",
       "      <td>270.84</td>\n",
       "      <td>14.22</td>\n",
       "      <td>18.14</td>\n",
       "      <td>0.28</td>\n",
       "      <td>0.00</td>\n",
       "      <td>Operating State</td>\n",
       "      <td>Inverter waiting for PV voltage</td>\n",
       "    </tr>\n",
       "    <tr>\n",
       "      <th>3</th>\n",
       "      <td>01-11-2020 06:45</td>\n",
       "      <td>1</td>\n",
       "      <td>50.02</td>\n",
       "      <td>0.0</td>\n",
       "      <td>0.0</td>\n",
       "      <td>664.18</td>\n",
       "      <td>0.0</td>\n",
       "      <td>0.0</td>\n",
       "      <td>0.0</td>\n",
       "      <td>271.55</td>\n",
       "      <td>14.22</td>\n",
       "      <td>17.96</td>\n",
       "      <td>0.28</td>\n",
       "      <td>2.76</td>\n",
       "      <td>NaN</td>\n",
       "      <td>NaN</td>\n",
       "    </tr>\n",
       "    <tr>\n",
       "      <th>4</th>\n",
       "      <td>01-11-2020 06:50</td>\n",
       "      <td>1</td>\n",
       "      <td>50.01</td>\n",
       "      <td>0.0</td>\n",
       "      <td>0.0</td>\n",
       "      <td>691.98</td>\n",
       "      <td>0.0</td>\n",
       "      <td>0.0</td>\n",
       "      <td>0.0</td>\n",
       "      <td>273.50</td>\n",
       "      <td>14.27</td>\n",
       "      <td>17.94</td>\n",
       "      <td>0.28</td>\n",
       "      <td>3.45</td>\n",
       "      <td>NaN</td>\n",
       "      <td>NaN</td>\n",
       "    </tr>\n",
       "  </tbody>\n",
       "</table>\n",
       "</div>"
      ],
      "text/plain": [
       "          date_time  inverter_id  ac_frequency  active_power  pv_current  \\\n",
       "0  01-11-2020 06:30            1         50.02           0.0         0.0   \n",
       "1  01-11-2020 06:35            1         50.01           0.0         0.0   \n",
       "2  01-11-2020 06:40            1         50.03           0.0         0.0   \n",
       "3  01-11-2020 06:45            1         50.02           0.0         0.0   \n",
       "4  01-11-2020 06:50            1         50.01           0.0         0.0   \n",
       "\n",
       "   pv_volt  reactive_power  daily_energy  ac_current  avg_ac_volt  \\\n",
       "0   464.58             0.0           0.0         0.0       271.53   \n",
       "1   570.72             0.0           0.0         0.0       270.97   \n",
       "2   625.72             0.0           0.0         0.0       270.84   \n",
       "3   664.18             0.0           0.0         0.0       271.55   \n",
       "4   691.98             0.0           0.0         0.0       273.50   \n",
       "\n",
       "   module_temp  ambient_temp  wind_speed  irradiance       alarm_name  \\\n",
       "0        14.12         18.06        0.28        0.00              NaN   \n",
       "1        14.17         18.08        0.28        0.00  Operating State   \n",
       "2        14.22         18.14        0.28        0.00  Operating State   \n",
       "3        14.22         17.96        0.28        2.76              NaN   \n",
       "4        14.27         17.94        0.28        3.45              NaN   \n",
       "\n",
       "                     alarm_message  \n",
       "0                              NaN  \n",
       "1  Inverter waiting for PV voltage  \n",
       "2  Inverter waiting for PV voltage  \n",
       "3                              NaN  \n",
       "4                              NaN  "
      ]
     },
     "execution_count": 2,
     "metadata": {},
     "output_type": "execute_result"
    }
   ],
   "source": [
    "train = pd.read_csv(\"train_data.csv\")\n",
    "train.head()"
   ]
  },
  {
   "cell_type": "code",
   "execution_count": 3,
   "metadata": {},
   "outputs": [],
   "source": [
    "train = train.set_index(pd.DatetimeIndex(train['date_time']))"
   ]
  },
  {
   "cell_type": "code",
   "execution_count": 4,
   "metadata": {},
   "outputs": [],
   "source": [
    "train['date_time'] = pd.to_datetime(train['date_time'])"
   ]
  },
  {
   "cell_type": "code",
   "execution_count": 5,
   "metadata": {},
   "outputs": [
    {
     "data": {
      "text/html": [
       "<div>\n",
       "<style scoped>\n",
       "    .dataframe tbody tr th:only-of-type {\n",
       "        vertical-align: middle;\n",
       "    }\n",
       "\n",
       "    .dataframe tbody tr th {\n",
       "        vertical-align: top;\n",
       "    }\n",
       "\n",
       "    .dataframe thead th {\n",
       "        text-align: right;\n",
       "    }\n",
       "</style>\n",
       "<table border=\"1\" class=\"dataframe\">\n",
       "  <thead>\n",
       "    <tr style=\"text-align: right;\">\n",
       "      <th></th>\n",
       "      <th>date_time</th>\n",
       "      <th>inverter_id</th>\n",
       "      <th>ac_frequency</th>\n",
       "      <th>active_power</th>\n",
       "      <th>pv_current</th>\n",
       "      <th>pv_volt</th>\n",
       "      <th>reactive_power</th>\n",
       "      <th>daily_energy</th>\n",
       "      <th>ac_current</th>\n",
       "      <th>avg_ac_volt</th>\n",
       "      <th>module_temp</th>\n",
       "      <th>ambient_temp</th>\n",
       "      <th>wind_speed</th>\n",
       "      <th>irradiance</th>\n",
       "      <th>alarm_name</th>\n",
       "      <th>alarm_message</th>\n",
       "    </tr>\n",
       "    <tr>\n",
       "      <th>date_time</th>\n",
       "      <th></th>\n",
       "      <th></th>\n",
       "      <th></th>\n",
       "      <th></th>\n",
       "      <th></th>\n",
       "      <th></th>\n",
       "      <th></th>\n",
       "      <th></th>\n",
       "      <th></th>\n",
       "      <th></th>\n",
       "      <th></th>\n",
       "      <th></th>\n",
       "      <th></th>\n",
       "      <th></th>\n",
       "      <th></th>\n",
       "      <th></th>\n",
       "    </tr>\n",
       "  </thead>\n",
       "  <tbody>\n",
       "    <tr>\n",
       "      <th>2020-01-11 06:45:00</th>\n",
       "      <td>2020-01-11 06:45:00</td>\n",
       "      <td>1</td>\n",
       "      <td>50.02</td>\n",
       "      <td>0.00</td>\n",
       "      <td>0.00</td>\n",
       "      <td>664.18</td>\n",
       "      <td>0.0</td>\n",
       "      <td>0.0</td>\n",
       "      <td>0.00</td>\n",
       "      <td>271.55</td>\n",
       "      <td>14.22</td>\n",
       "      <td>17.96</td>\n",
       "      <td>0.28</td>\n",
       "      <td>2.76</td>\n",
       "      <td>NaN</td>\n",
       "      <td>NaN</td>\n",
       "    </tr>\n",
       "    <tr>\n",
       "      <th>2020-01-11 07:15:00</th>\n",
       "      <td>2020-01-11 07:15:00</td>\n",
       "      <td>1</td>\n",
       "      <td>49.98</td>\n",
       "      <td>13.40</td>\n",
       "      <td>25.84</td>\n",
       "      <td>602.28</td>\n",
       "      <td>-18.0</td>\n",
       "      <td>1.2</td>\n",
       "      <td>28.44</td>\n",
       "      <td>273.06</td>\n",
       "      <td>16.12</td>\n",
       "      <td>18.98</td>\n",
       "      <td>0.28</td>\n",
       "      <td>41.35</td>\n",
       "      <td>NaN</td>\n",
       "      <td>NaN</td>\n",
       "    </tr>\n",
       "    <tr>\n",
       "      <th>2020-01-11 07:45:00</th>\n",
       "      <td>2020-01-11 07:45:00</td>\n",
       "      <td>1</td>\n",
       "      <td>50.03</td>\n",
       "      <td>53.10</td>\n",
       "      <td>82.10</td>\n",
       "      <td>682.22</td>\n",
       "      <td>-28.0</td>\n",
       "      <td>17.0</td>\n",
       "      <td>111.34</td>\n",
       "      <td>272.25</td>\n",
       "      <td>20.47</td>\n",
       "      <td>20.78</td>\n",
       "      <td>0.28</td>\n",
       "      <td>130.93</td>\n",
       "      <td>NaN</td>\n",
       "      <td>NaN</td>\n",
       "    </tr>\n",
       "    <tr>\n",
       "      <th>2020-01-11 08:15:00</th>\n",
       "      <td>2020-01-11 08:15:00</td>\n",
       "      <td>1</td>\n",
       "      <td>49.99</td>\n",
       "      <td>104.22</td>\n",
       "      <td>158.30</td>\n",
       "      <td>678.64</td>\n",
       "      <td>-38.0</td>\n",
       "      <td>55.8</td>\n",
       "      <td>218.88</td>\n",
       "      <td>273.05</td>\n",
       "      <td>26.79</td>\n",
       "      <td>22.94</td>\n",
       "      <td>0.28</td>\n",
       "      <td>244.57</td>\n",
       "      <td>NaN</td>\n",
       "      <td>NaN</td>\n",
       "    </tr>\n",
       "    <tr>\n",
       "      <th>2020-01-11 08:45:00</th>\n",
       "      <td>2020-01-11 08:45:00</td>\n",
       "      <td>1</td>\n",
       "      <td>50.00</td>\n",
       "      <td>157.40</td>\n",
       "      <td>240.98</td>\n",
       "      <td>666.28</td>\n",
       "      <td>-76.0</td>\n",
       "      <td>121.2</td>\n",
       "      <td>330.86</td>\n",
       "      <td>273.26</td>\n",
       "      <td>32.92</td>\n",
       "      <td>25.04</td>\n",
       "      <td>0.28</td>\n",
       "      <td>361.66</td>\n",
       "      <td>NaN</td>\n",
       "      <td>NaN</td>\n",
       "    </tr>\n",
       "  </tbody>\n",
       "</table>\n",
       "</div>"
      ],
      "text/plain": [
       "                              date_time  inverter_id  ac_frequency  \\\n",
       "date_time                                                            \n",
       "2020-01-11 06:45:00 2020-01-11 06:45:00            1         50.02   \n",
       "2020-01-11 07:15:00 2020-01-11 07:15:00            1         49.98   \n",
       "2020-01-11 07:45:00 2020-01-11 07:45:00            1         50.03   \n",
       "2020-01-11 08:15:00 2020-01-11 08:15:00            1         49.99   \n",
       "2020-01-11 08:45:00 2020-01-11 08:45:00            1         50.00   \n",
       "\n",
       "                     active_power  pv_current  pv_volt  reactive_power  \\\n",
       "date_time                                                                \n",
       "2020-01-11 06:45:00          0.00        0.00   664.18             0.0   \n",
       "2020-01-11 07:15:00         13.40       25.84   602.28           -18.0   \n",
       "2020-01-11 07:45:00         53.10       82.10   682.22           -28.0   \n",
       "2020-01-11 08:15:00        104.22      158.30   678.64           -38.0   \n",
       "2020-01-11 08:45:00        157.40      240.98   666.28           -76.0   \n",
       "\n",
       "                     daily_energy  ac_current  avg_ac_volt  module_temp  \\\n",
       "date_time                                                                 \n",
       "2020-01-11 06:45:00           0.0        0.00       271.55        14.22   \n",
       "2020-01-11 07:15:00           1.2       28.44       273.06        16.12   \n",
       "2020-01-11 07:45:00          17.0      111.34       272.25        20.47   \n",
       "2020-01-11 08:15:00          55.8      218.88       273.05        26.79   \n",
       "2020-01-11 08:45:00         121.2      330.86       273.26        32.92   \n",
       "\n",
       "                     ambient_temp  wind_speed  irradiance alarm_name  \\\n",
       "date_time                                                              \n",
       "2020-01-11 06:45:00         17.96        0.28        2.76        NaN   \n",
       "2020-01-11 07:15:00         18.98        0.28       41.35        NaN   \n",
       "2020-01-11 07:45:00         20.78        0.28      130.93        NaN   \n",
       "2020-01-11 08:15:00         22.94        0.28      244.57        NaN   \n",
       "2020-01-11 08:45:00         25.04        0.28      361.66        NaN   \n",
       "\n",
       "                    alarm_message  \n",
       "date_time                          \n",
       "2020-01-11 06:45:00           NaN  \n",
       "2020-01-11 07:15:00           NaN  \n",
       "2020-01-11 07:45:00           NaN  \n",
       "2020-01-11 08:15:00           NaN  \n",
       "2020-01-11 08:45:00           NaN  "
      ]
     },
     "execution_count": 5,
     "metadata": {},
     "output_type": "execute_result"
    }
   ],
   "source": [
    "train = train[(train['date_time'].dt.minute == 15) | (train['date_time'].dt.minute == 45)]\n",
    "train.head()"
   ]
  },
  {
   "cell_type": "code",
   "execution_count": 6,
   "metadata": {},
   "outputs": [
    {
     "data": {
      "text/html": [
       "<div>\n",
       "<style scoped>\n",
       "    .dataframe tbody tr th:only-of-type {\n",
       "        vertical-align: middle;\n",
       "    }\n",
       "\n",
       "    .dataframe tbody tr th {\n",
       "        vertical-align: top;\n",
       "    }\n",
       "\n",
       "    .dataframe thead th {\n",
       "        text-align: right;\n",
       "    }\n",
       "</style>\n",
       "<table border=\"1\" class=\"dataframe\">\n",
       "  <thead>\n",
       "    <tr style=\"text-align: right;\">\n",
       "      <th></th>\n",
       "      <th>date_time</th>\n",
       "      <th>inverter_id</th>\n",
       "      <th>ac_frequency</th>\n",
       "      <th>active_power</th>\n",
       "      <th>pv_current</th>\n",
       "      <th>pv_volt</th>\n",
       "      <th>reactive_power</th>\n",
       "      <th>daily_energy</th>\n",
       "      <th>ac_current</th>\n",
       "      <th>avg_ac_volt</th>\n",
       "      <th>module_temp</th>\n",
       "      <th>ambient_temp</th>\n",
       "      <th>wind_speed</th>\n",
       "      <th>irradiance</th>\n",
       "      <th>alarm_name</th>\n",
       "      <th>alarm_message</th>\n",
       "      <th>class</th>\n",
       "    </tr>\n",
       "    <tr>\n",
       "      <th>date_time</th>\n",
       "      <th></th>\n",
       "      <th></th>\n",
       "      <th></th>\n",
       "      <th></th>\n",
       "      <th></th>\n",
       "      <th></th>\n",
       "      <th></th>\n",
       "      <th></th>\n",
       "      <th></th>\n",
       "      <th></th>\n",
       "      <th></th>\n",
       "      <th></th>\n",
       "      <th></th>\n",
       "      <th></th>\n",
       "      <th></th>\n",
       "      <th></th>\n",
       "      <th></th>\n",
       "    </tr>\n",
       "  </thead>\n",
       "  <tbody>\n",
       "    <tr>\n",
       "      <th>2020-01-11 06:45:00</th>\n",
       "      <td>2020-01-11 06:45:00</td>\n",
       "      <td>1</td>\n",
       "      <td>50.02</td>\n",
       "      <td>0.0</td>\n",
       "      <td>0.00</td>\n",
       "      <td>664.18</td>\n",
       "      <td>0.0</td>\n",
       "      <td>0.0</td>\n",
       "      <td>0.00</td>\n",
       "      <td>271.55</td>\n",
       "      <td>14.22</td>\n",
       "      <td>17.96</td>\n",
       "      <td>0.28</td>\n",
       "      <td>2.76</td>\n",
       "      <td>NaN</td>\n",
       "      <td>NaN</td>\n",
       "      <td>0</td>\n",
       "    </tr>\n",
       "    <tr>\n",
       "      <th>2020-01-11 07:15:00</th>\n",
       "      <td>2020-01-11 07:15:00</td>\n",
       "      <td>1</td>\n",
       "      <td>49.98</td>\n",
       "      <td>13.4</td>\n",
       "      <td>25.84</td>\n",
       "      <td>602.28</td>\n",
       "      <td>-18.0</td>\n",
       "      <td>1.2</td>\n",
       "      <td>28.44</td>\n",
       "      <td>273.06</td>\n",
       "      <td>16.12</td>\n",
       "      <td>18.98</td>\n",
       "      <td>0.28</td>\n",
       "      <td>41.35</td>\n",
       "      <td>NaN</td>\n",
       "      <td>NaN</td>\n",
       "      <td>0</td>\n",
       "    </tr>\n",
       "    <tr>\n",
       "      <th>2020-01-11 07:45:00</th>\n",
       "      <td>2020-01-11 07:45:00</td>\n",
       "      <td>1</td>\n",
       "      <td>50.03</td>\n",
       "      <td>53.1</td>\n",
       "      <td>82.10</td>\n",
       "      <td>682.22</td>\n",
       "      <td>-28.0</td>\n",
       "      <td>17.0</td>\n",
       "      <td>111.34</td>\n",
       "      <td>272.25</td>\n",
       "      <td>20.47</td>\n",
       "      <td>20.78</td>\n",
       "      <td>0.28</td>\n",
       "      <td>130.93</td>\n",
       "      <td>NaN</td>\n",
       "      <td>NaN</td>\n",
       "      <td>0</td>\n",
       "    </tr>\n",
       "  </tbody>\n",
       "</table>\n",
       "</div>"
      ],
      "text/plain": [
       "                              date_time  inverter_id  ac_frequency  \\\n",
       "date_time                                                            \n",
       "2020-01-11 06:45:00 2020-01-11 06:45:00            1         50.02   \n",
       "2020-01-11 07:15:00 2020-01-11 07:15:00            1         49.98   \n",
       "2020-01-11 07:45:00 2020-01-11 07:45:00            1         50.03   \n",
       "\n",
       "                     active_power  pv_current  pv_volt  reactive_power  \\\n",
       "date_time                                                                \n",
       "2020-01-11 06:45:00           0.0        0.00   664.18             0.0   \n",
       "2020-01-11 07:15:00          13.4       25.84   602.28           -18.0   \n",
       "2020-01-11 07:45:00          53.1       82.10   682.22           -28.0   \n",
       "\n",
       "                     daily_energy  ac_current  avg_ac_volt  module_temp  \\\n",
       "date_time                                                                 \n",
       "2020-01-11 06:45:00           0.0        0.00       271.55        14.22   \n",
       "2020-01-11 07:15:00           1.2       28.44       273.06        16.12   \n",
       "2020-01-11 07:45:00          17.0      111.34       272.25        20.47   \n",
       "\n",
       "                     ambient_temp  wind_speed  irradiance alarm_name  \\\n",
       "date_time                                                              \n",
       "2020-01-11 06:45:00         17.96        0.28        2.76        NaN   \n",
       "2020-01-11 07:15:00         18.98        0.28       41.35        NaN   \n",
       "2020-01-11 07:45:00         20.78        0.28      130.93        NaN   \n",
       "\n",
       "                    alarm_message  class  \n",
       "date_time                                 \n",
       "2020-01-11 06:45:00           NaN      0  \n",
       "2020-01-11 07:15:00           NaN      0  \n",
       "2020-01-11 07:45:00           NaN      0  "
      ]
     },
     "execution_count": 6,
     "metadata": {},
     "output_type": "execute_result"
    }
   ],
   "source": [
    "train['class'] = 0\n",
    "\n",
    "train.loc[(train['active_power'] == 0) &\n",
    "          (train['alarm_name'].notnull()) &\n",
    "          (train['irradiance'] > 100.0),\n",
    "          'class'] = 1\n",
    "\n",
    "train.head(3)"
   ]
  },
  {
   "cell_type": "code",
   "execution_count": 7,
   "metadata": {},
   "outputs": [
    {
     "data": {
      "text/html": [
       "<div>\n",
       "<style scoped>\n",
       "    .dataframe tbody tr th:only-of-type {\n",
       "        vertical-align: middle;\n",
       "    }\n",
       "\n",
       "    .dataframe tbody tr th {\n",
       "        vertical-align: top;\n",
       "    }\n",
       "\n",
       "    .dataframe thead th {\n",
       "        text-align: right;\n",
       "    }\n",
       "</style>\n",
       "<table border=\"1\" class=\"dataframe\">\n",
       "  <thead>\n",
       "    <tr style=\"text-align: right;\">\n",
       "      <th></th>\n",
       "      <th>date_time</th>\n",
       "      <th>inverter_id</th>\n",
       "      <th>ac_frequency</th>\n",
       "      <th>active_power</th>\n",
       "      <th>pv_current</th>\n",
       "      <th>pv_volt</th>\n",
       "      <th>reactive_power</th>\n",
       "      <th>daily_energy</th>\n",
       "      <th>ac_current</th>\n",
       "      <th>avg_ac_volt</th>\n",
       "      <th>module_temp</th>\n",
       "      <th>ambient_temp</th>\n",
       "      <th>wind_speed</th>\n",
       "      <th>irradiance</th>\n",
       "      <th>alarm_name</th>\n",
       "      <th>alarm_message</th>\n",
       "      <th>class</th>\n",
       "      <th>alarm_class</th>\n",
       "    </tr>\n",
       "    <tr>\n",
       "      <th>date_time</th>\n",
       "      <th></th>\n",
       "      <th></th>\n",
       "      <th></th>\n",
       "      <th></th>\n",
       "      <th></th>\n",
       "      <th></th>\n",
       "      <th></th>\n",
       "      <th></th>\n",
       "      <th></th>\n",
       "      <th></th>\n",
       "      <th></th>\n",
       "      <th></th>\n",
       "      <th></th>\n",
       "      <th></th>\n",
       "      <th></th>\n",
       "      <th></th>\n",
       "      <th></th>\n",
       "      <th></th>\n",
       "    </tr>\n",
       "  </thead>\n",
       "  <tbody>\n",
       "    <tr>\n",
       "      <th>2020-01-11 06:45:00</th>\n",
       "      <td>2020-01-11 06:45:00</td>\n",
       "      <td>1</td>\n",
       "      <td>50.02</td>\n",
       "      <td>0.0</td>\n",
       "      <td>0.00</td>\n",
       "      <td>664.18</td>\n",
       "      <td>0.0</td>\n",
       "      <td>0.0</td>\n",
       "      <td>0.00</td>\n",
       "      <td>271.55</td>\n",
       "      <td>14.22</td>\n",
       "      <td>17.96</td>\n",
       "      <td>0.28</td>\n",
       "      <td>2.76</td>\n",
       "      <td>NaN</td>\n",
       "      <td>NaN</td>\n",
       "      <td>0</td>\n",
       "      <td>0</td>\n",
       "    </tr>\n",
       "    <tr>\n",
       "      <th>2020-01-11 07:15:00</th>\n",
       "      <td>2020-01-11 07:15:00</td>\n",
       "      <td>1</td>\n",
       "      <td>49.98</td>\n",
       "      <td>13.4</td>\n",
       "      <td>25.84</td>\n",
       "      <td>602.28</td>\n",
       "      <td>-18.0</td>\n",
       "      <td>1.2</td>\n",
       "      <td>28.44</td>\n",
       "      <td>273.06</td>\n",
       "      <td>16.12</td>\n",
       "      <td>18.98</td>\n",
       "      <td>0.28</td>\n",
       "      <td>41.35</td>\n",
       "      <td>NaN</td>\n",
       "      <td>NaN</td>\n",
       "      <td>0</td>\n",
       "      <td>0</td>\n",
       "    </tr>\n",
       "    <tr>\n",
       "      <th>2020-01-11 07:45:00</th>\n",
       "      <td>2020-01-11 07:45:00</td>\n",
       "      <td>1</td>\n",
       "      <td>50.03</td>\n",
       "      <td>53.1</td>\n",
       "      <td>82.10</td>\n",
       "      <td>682.22</td>\n",
       "      <td>-28.0</td>\n",
       "      <td>17.0</td>\n",
       "      <td>111.34</td>\n",
       "      <td>272.25</td>\n",
       "      <td>20.47</td>\n",
       "      <td>20.78</td>\n",
       "      <td>0.28</td>\n",
       "      <td>130.93</td>\n",
       "      <td>NaN</td>\n",
       "      <td>NaN</td>\n",
       "      <td>0</td>\n",
       "      <td>0</td>\n",
       "    </tr>\n",
       "  </tbody>\n",
       "</table>\n",
       "</div>"
      ],
      "text/plain": [
       "                              date_time  inverter_id  ac_frequency  \\\n",
       "date_time                                                            \n",
       "2020-01-11 06:45:00 2020-01-11 06:45:00            1         50.02   \n",
       "2020-01-11 07:15:00 2020-01-11 07:15:00            1         49.98   \n",
       "2020-01-11 07:45:00 2020-01-11 07:45:00            1         50.03   \n",
       "\n",
       "                     active_power  pv_current  pv_volt  reactive_power  \\\n",
       "date_time                                                                \n",
       "2020-01-11 06:45:00           0.0        0.00   664.18             0.0   \n",
       "2020-01-11 07:15:00          13.4       25.84   602.28           -18.0   \n",
       "2020-01-11 07:45:00          53.1       82.10   682.22           -28.0   \n",
       "\n",
       "                     daily_energy  ac_current  avg_ac_volt  module_temp  \\\n",
       "date_time                                                                 \n",
       "2020-01-11 06:45:00           0.0        0.00       271.55        14.22   \n",
       "2020-01-11 07:15:00           1.2       28.44       273.06        16.12   \n",
       "2020-01-11 07:45:00          17.0      111.34       272.25        20.47   \n",
       "\n",
       "                     ambient_temp  wind_speed  irradiance alarm_name  \\\n",
       "date_time                                                              \n",
       "2020-01-11 06:45:00         17.96        0.28        2.76        NaN   \n",
       "2020-01-11 07:15:00         18.98        0.28       41.35        NaN   \n",
       "2020-01-11 07:45:00         20.78        0.28      130.93        NaN   \n",
       "\n",
       "                    alarm_message  class  alarm_class  \n",
       "date_time                                              \n",
       "2020-01-11 06:45:00           NaN      0            0  \n",
       "2020-01-11 07:15:00           NaN      0            0  \n",
       "2020-01-11 07:45:00           NaN      0            0  "
      ]
     },
     "execution_count": 7,
     "metadata": {},
     "output_type": "execute_result"
    }
   ],
   "source": [
    "train['alarm_class'] = 0\n",
    "\n",
    "train.loc[(train['active_power'] == 0) &\n",
    "          (train['alarm_name'].notnull()) &\n",
    "          (train['irradiance'] > 100.0),\n",
    "          'alarm_class'] = 1\n",
    "\n",
    "train.head(3)"
   ]
  },
  {
   "cell_type": "code",
   "execution_count": 8,
   "metadata": {},
   "outputs": [
    {
     "data": {
      "text/plain": [
       "0    87698\n",
       "1        9\n",
       "Name: alarm_class, dtype: int64"
      ]
     },
     "execution_count": 8,
     "metadata": {},
     "output_type": "execute_result"
    }
   ],
   "source": [
    "train['alarm_class'].value_counts()"
   ]
  },
  {
   "cell_type": "code",
   "execution_count": 9,
   "metadata": {},
   "outputs": [
    {
     "data": {
      "text/html": [
       "<div>\n",
       "<style scoped>\n",
       "    .dataframe tbody tr th:only-of-type {\n",
       "        vertical-align: middle;\n",
       "    }\n",
       "\n",
       "    .dataframe tbody tr th {\n",
       "        vertical-align: top;\n",
       "    }\n",
       "\n",
       "    .dataframe thead th {\n",
       "        text-align: right;\n",
       "    }\n",
       "</style>\n",
       "<table border=\"1\" class=\"dataframe\">\n",
       "  <thead>\n",
       "    <tr style=\"text-align: right;\">\n",
       "      <th></th>\n",
       "      <th>date_time</th>\n",
       "      <th>inverter_id</th>\n",
       "      <th>ac_frequency</th>\n",
       "      <th>active_power</th>\n",
       "      <th>pv_current</th>\n",
       "      <th>pv_volt</th>\n",
       "      <th>reactive_power</th>\n",
       "      <th>daily_energy</th>\n",
       "      <th>ac_current</th>\n",
       "      <th>avg_ac_volt</th>\n",
       "      <th>module_temp</th>\n",
       "      <th>ambient_temp</th>\n",
       "      <th>wind_speed</th>\n",
       "      <th>irradiance</th>\n",
       "      <th>alarm_name</th>\n",
       "      <th>alarm_message</th>\n",
       "      <th>class</th>\n",
       "      <th>alarm_class</th>\n",
       "    </tr>\n",
       "    <tr>\n",
       "      <th>date_time</th>\n",
       "      <th></th>\n",
       "      <th></th>\n",
       "      <th></th>\n",
       "      <th></th>\n",
       "      <th></th>\n",
       "      <th></th>\n",
       "      <th></th>\n",
       "      <th></th>\n",
       "      <th></th>\n",
       "      <th></th>\n",
       "      <th></th>\n",
       "      <th></th>\n",
       "      <th></th>\n",
       "      <th></th>\n",
       "      <th></th>\n",
       "      <th></th>\n",
       "      <th></th>\n",
       "      <th></th>\n",
       "    </tr>\n",
       "  </thead>\n",
       "  <tbody>\n",
       "    <tr>\n",
       "      <th>2020-01-11 07:15:00</th>\n",
       "      <td>2020-01-11 07:15:00</td>\n",
       "      <td>1</td>\n",
       "      <td>49.98</td>\n",
       "      <td>13.40</td>\n",
       "      <td>25.84</td>\n",
       "      <td>602.28</td>\n",
       "      <td>-18.0</td>\n",
       "      <td>1.2</td>\n",
       "      <td>28.44</td>\n",
       "      <td>273.06</td>\n",
       "      <td>16.12</td>\n",
       "      <td>18.98</td>\n",
       "      <td>0.28</td>\n",
       "      <td>41.35</td>\n",
       "      <td>NaN</td>\n",
       "      <td>NaN</td>\n",
       "      <td>0</td>\n",
       "      <td>0</td>\n",
       "    </tr>\n",
       "    <tr>\n",
       "      <th>2020-01-11 07:45:00</th>\n",
       "      <td>2020-01-11 07:45:00</td>\n",
       "      <td>1</td>\n",
       "      <td>50.03</td>\n",
       "      <td>53.10</td>\n",
       "      <td>82.10</td>\n",
       "      <td>682.22</td>\n",
       "      <td>-28.0</td>\n",
       "      <td>17.0</td>\n",
       "      <td>111.34</td>\n",
       "      <td>272.25</td>\n",
       "      <td>20.47</td>\n",
       "      <td>20.78</td>\n",
       "      <td>0.28</td>\n",
       "      <td>130.93</td>\n",
       "      <td>NaN</td>\n",
       "      <td>NaN</td>\n",
       "      <td>0</td>\n",
       "      <td>0</td>\n",
       "    </tr>\n",
       "    <tr>\n",
       "      <th>2020-01-11 08:15:00</th>\n",
       "      <td>2020-01-11 08:15:00</td>\n",
       "      <td>1</td>\n",
       "      <td>49.99</td>\n",
       "      <td>104.22</td>\n",
       "      <td>158.30</td>\n",
       "      <td>678.64</td>\n",
       "      <td>-38.0</td>\n",
       "      <td>55.8</td>\n",
       "      <td>218.88</td>\n",
       "      <td>273.05</td>\n",
       "      <td>26.79</td>\n",
       "      <td>22.94</td>\n",
       "      <td>0.28</td>\n",
       "      <td>244.57</td>\n",
       "      <td>NaN</td>\n",
       "      <td>NaN</td>\n",
       "      <td>0</td>\n",
       "      <td>0</td>\n",
       "    </tr>\n",
       "  </tbody>\n",
       "</table>\n",
       "</div>"
      ],
      "text/plain": [
       "                              date_time  inverter_id  ac_frequency  \\\n",
       "date_time                                                            \n",
       "2020-01-11 07:15:00 2020-01-11 07:15:00            1         49.98   \n",
       "2020-01-11 07:45:00 2020-01-11 07:45:00            1         50.03   \n",
       "2020-01-11 08:15:00 2020-01-11 08:15:00            1         49.99   \n",
       "\n",
       "                     active_power  pv_current  pv_volt  reactive_power  \\\n",
       "date_time                                                                \n",
       "2020-01-11 07:15:00         13.40       25.84   602.28           -18.0   \n",
       "2020-01-11 07:45:00         53.10       82.10   682.22           -28.0   \n",
       "2020-01-11 08:15:00        104.22      158.30   678.64           -38.0   \n",
       "\n",
       "                     daily_energy  ac_current  avg_ac_volt  module_temp  \\\n",
       "date_time                                                                 \n",
       "2020-01-11 07:15:00           1.2       28.44       273.06        16.12   \n",
       "2020-01-11 07:45:00          17.0      111.34       272.25        20.47   \n",
       "2020-01-11 08:15:00          55.8      218.88       273.05        26.79   \n",
       "\n",
       "                     ambient_temp  wind_speed  irradiance alarm_name  \\\n",
       "date_time                                                              \n",
       "2020-01-11 07:15:00         18.98        0.28       41.35        NaN   \n",
       "2020-01-11 07:45:00         20.78        0.28      130.93        NaN   \n",
       "2020-01-11 08:15:00         22.94        0.28      244.57        NaN   \n",
       "\n",
       "                    alarm_message  class  alarm_class  \n",
       "date_time                                              \n",
       "2020-01-11 07:15:00           NaN      0            0  \n",
       "2020-01-11 07:45:00           NaN      0            0  \n",
       "2020-01-11 08:15:00           NaN      0            0  "
      ]
     },
     "execution_count": 9,
     "metadata": {},
     "output_type": "execute_result"
    }
   ],
   "source": [
    "train = train[train.date_time.dt.strftime('%H:%M:%S').between('07:00:00','17:00:00')]\n",
    "train.head(3)"
   ]
  },
  {
   "cell_type": "code",
   "execution_count": 10,
   "metadata": {},
   "outputs": [
    {
     "data": {
      "image/png": "[encoded data removed]",
      "text/plain": [
       "<Figure size 720x720 with 2 Axes>"
      ]
     },
     "metadata": {
      "needs_background": "light"
     },
     "output_type": "display_data"
    }
   ],
   "source": [
    "cor = train.corr()\n",
    "colormap = plt.cm.Greens\n",
    "plt.figure(figsize=(10,10))\n",
    "sns.heatmap(cor,linewidths=0.1,vmax=1.0, square=True, cmap = colormap, linecolor='white')\n",
    "plt.show()"
   ]
  },
  {
   "cell_type": "code",
   "execution_count": 11,
   "metadata": {},
   "outputs": [],
   "source": [
    "train = train.drop(['inverter_id', 'date_time', 'alarm_class', 'alarm_name', 'alarm_message'], axis = 1)"
   ]
  },
  {
   "cell_type": "code",
   "execution_count": 12,
   "metadata": {},
   "outputs": [],
   "source": [
    "X=train.drop(\"class\",axis=1)\n",
    "y=train['class']\n",
    "\n",
    "accuracies ={}\n",
    "f1scores={}"
   ]
  },
  {
   "cell_type": "code",
   "execution_count": 13,
   "metadata": {},
   "outputs": [],
   "source": [
    "from sklearn.model_selection import train_test_split\n",
    "X_train,X_test,y_train,y_test=train_test_split(X,y,train_size=0.7)"
   ]
  },
  {
   "cell_type": "code",
   "execution_count": 14,
   "metadata": {},
   "outputs": [],
   "source": [
    "from sklearn.preprocessing import StandardScaler\n",
    "sc = StandardScaler()\n",
    "\n",
    "X_train = sc.fit_transform(X_train)\n",
    "X_test = sc.transform(X_test)"
   ]
  },
  {
   "cell_type": "code",
   "execution_count": 15,
   "metadata": {},
   "outputs": [
    {
     "name": "stdout",
     "output_type": "stream",
     "text": [
      "[[ 0.35070702  0.53202242  0.37377597 ... -0.92452202 -0.45805801\n",
      "   0.29422904]\n",
      " [ 0.35908832  1.21570923  0.99063535 ... -0.68908434 -0.45805801\n",
      "   0.81396929]\n",
      " [ 0.35135174  0.44366252  0.36858744 ...  0.47938411 -0.45805801\n",
      "   0.31480403]\n",
      " ...\n",
      " [ 0.35457531  1.04617581  0.94624454 ... -0.54956572  3.25907723\n",
      "   0.85548235]\n",
      " [ 0.35070702 -0.98675531 -0.96967074 ... -0.8387762  -0.45805801\n",
      "  -1.25982778]\n",
      " [ 0.34361515 -0.57517128 -0.62799598 ...  0.59128967 -0.45805801\n",
      "  -0.97189903]]\n",
      "[[ 0.3539306   0.0248921  -0.08358394 ... -0.61787171  1.40050961\n",
      "  -0.21744258]\n",
      " [ 0.35070702  1.0206968   1.20211627 ...  1.19005708 -0.45805801\n",
      "   1.38490494]\n",
      " [ 0.35328588  0.5421487   0.64357989 ...  1.35428212 -0.45805801\n",
      "   0.57679216]\n",
      " ...\n",
      " [ 0.35070702 -1.02007401 -1.00973777 ...  1.15081747 -0.45805801\n",
      "  -1.36076623]\n",
      " [ 0.35457531  0.577264    0.48340783 ... -0.1266499   3.25907723\n",
      "   0.48989311]\n",
      " [-2.8715811  -1.58763532 -1.54290798 ...  1.15081747 -0.45805801\n",
      "  -1.36076623]]\n"
     ]
    }
   ],
   "source": [
    "print(X_train)\n",
    "print(X_test)"
   ]
  },
  {
   "cell_type": "code",
   "execution_count": 16,
   "metadata": {},
   "outputs": [
    {
     "name": "stdout",
     "output_type": "stream",
     "text": [
      "Accuracy:  99.98\n",
      "f1-score:  0.0\n",
      "              precision    recall  f1-score   support\n",
      "\n",
      "           0       1.00      1.00      1.00     20759\n",
      "           1       0.00      0.00      0.00         5\n",
      "\n",
      "    accuracy                           1.00     20764\n",
      "   macro avg       0.50      0.50      0.50     20764\n",
      "weighted avg       1.00      1.00      1.00     20764\n",
      "\n"
     ]
    }
   ],
   "source": [
    "#Logistic Regression with Imbalanced data\n",
    "\n",
    "from sklearn.linear_model import LogisticRegression\n",
    "from sklearn.metrics import accuracy_score,confusion_matrix,classification_report,f1_score\n",
    "\n",
    "model_log = LogisticRegression()\n",
    "model_log.fit(X_train, y_train)\n",
    "\n",
    "y_pred=model_log.predict(X_test)\n",
    "\n",
    "acc = round((accuracy_score(y_test, y_pred)*100),2)\n",
    "accuracies['Logistic']=acc\n",
    "print('Accuracy: ', acc)\n",
    "\n",
    "f1=round((f1_score(y_test,y_pred)*100),2)\n",
    "f1scores['Logistic']=f1\n",
    "print('f1-score: ', f1)\n",
    "\n",
    "cf1 = confusion_matrix(y_test,y_pred)\n",
    "cf1\n",
    "print(classification_report(y_test,y_pred))"
   ]
  },
  {
   "cell_type": "code",
   "execution_count": 17,
   "metadata": {},
   "outputs": [
    {
     "data": {
      "image/png": "[encoded data removed]",
      "text/plain": [
       "<Figure size 576x432 with 2 Axes>"
      ]
     },
     "metadata": {
      "needs_background": "light"
     },
     "output_type": "display_data"
    }
   ],
   "source": [
    "plt.figure(figsize=(8, 6))\n",
    "sns.heatmap(cf1, annot=True, fmt=\".1f\")\n",
    "plt.title('Confusion Matrix of Logistic Regression', fontsize=15)\n",
    "\n",
    "txt = 'Accuracy: {0}'.format(acc)\n",
    "txt2 = '\\n f1-Score: {0}'.format(f1)\n",
    "plt.xlabel(txt + txt2, fontsize=15)\n",
    "plt.show()"
   ]
  },
  {
   "cell_type": "code",
   "execution_count": 18,
   "metadata": {},
   "outputs": [
    {
     "data": {
      "text/plain": [
       "0    48444\n",
       "1        4\n",
       "Name: class, dtype: int64"
      ]
     },
     "execution_count": 18,
     "metadata": {},
     "output_type": "execute_result"
    }
   ],
   "source": [
    "y_train.value_counts()"
   ]
  },
  {
   "cell_type": "code",
   "execution_count": 19,
   "metadata": {},
   "outputs": [
    {
     "data": {
      "text/plain": [
       "pv_volt           1.529507\n",
       "daily_energy      1.361760\n",
       "reactive_power    0.567951\n",
       "wind_speed        0.513483\n",
       "avg_ac_volt       0.438653\n",
       "irradiance        0.359378\n",
       "module_temp       0.233401\n",
       "ambient_temp     -0.073751\n",
       "pv_current       -0.649746\n",
       "ac_current       -0.671711\n",
       "active_power     -0.682058\n",
       "ac_frequency     -1.943542\n",
       "dtype: float64"
      ]
     },
     "execution_count": 19,
     "metadata": {},
     "output_type": "execute_result"
    }
   ],
   "source": [
    "#Feature Importance\n",
    "\n",
    "feature_imp = pd.Series(model_log.coef_[0], index=train.columns[:12]).sort_values(ascending=False)\n",
    "feature_imp"
   ]
  },
  {
   "cell_type": "code",
   "execution_count": 20,
   "metadata": {},
   "outputs": [
    {
     "data": {
      "image/png": "[encoded data removed]",
      "text/plain": [
       "<Figure size 720x720 with 1 Axes>"
      ]
     },
     "metadata": {
      "needs_background": "light"
     },
     "output_type": "display_data"
    }
   ],
   "source": [
    "plt.figure(figsize=(10,10))\n",
    "sns.barplot(x=feature_imp, y=feature_imp.index)\n",
    "\n",
    "plt.xlabel('Feature Importance Score')\n",
    "plt.ylabel('Features')\n",
    "plt.title(\"Visualizing Important Features\")\n",
    "plt.show()"
   ]
  },
  {
   "cell_type": "code",
   "execution_count": 21,
   "metadata": {},
   "outputs": [
    {
     "data": {
      "text/plain": [
       "Counter({0: 4, 1: 4})"
      ]
     },
     "execution_count": 21,
     "metadata": {},
     "output_type": "execute_result"
    }
   ],
   "source": [
    "#Dealing with Imbalanced data using different models\n",
    "\n",
    "#UnderSampling\n",
    "\n",
    "from imblearn.under_sampling import RandomUnderSampler\n",
    "from collections import Counter\n",
    "\n",
    "rus = RandomUnderSampler(random_state=42)\n",
    "X_train_rus,y_train_rus=rus.fit_resample(X_train,y_train)\n",
    "\n",
    "Counter(y_train_rus)"
   ]
  },
  {
   "cell_type": "code",
   "execution_count": 22,
   "metadata": {},
   "outputs": [
    {
     "name": "stdout",
     "output_type": "stream",
     "text": [
      "Accuracy:  87.92\n",
      "f1-score:  0.4\n",
      "              precision    recall  f1-score   support\n",
      "\n",
      "           0       1.00      0.88      0.94     20759\n",
      "           1       0.00      1.00      0.00         5\n",
      "\n",
      "    accuracy                           0.88     20764\n",
      "   macro avg       0.50      0.94      0.47     20764\n",
      "weighted avg       1.00      0.88      0.94     20764\n",
      "\n"
     ]
    }
   ],
   "source": [
    "#Random Forest_UnderSampling\n",
    "\n",
    "from sklearn.ensemble import RandomForestClassifier\n",
    "rand1 = RandomForestClassifier()\n",
    "rand1.fit(X_train_rus, y_train_rus)\n",
    "\n",
    "\n",
    "y_pred = rand1.predict(X_test)\n",
    "\n",
    "acc = round((accuracy_score(y_test, y_pred)*100),2)\n",
    "accuracies['Undersampling_RandomForest']=acc\n",
    "print('Accuracy: ', acc)\n",
    "\n",
    "f1=round((f1_score(y_test,y_pred)*100),2)\n",
    "f1scores['Undersampling_RandomForest']=f1\n",
    "print('f1-score: ', f1)\n",
    "\n",
    "cf2 = confusion_matrix(y_test, y_pred)\n",
    "cf2\n",
    "\n",
    "print(classification_report(y_test,y_pred))"
   ]
  },
  {
   "cell_type": "code",
   "execution_count": 23,
   "metadata": {},
   "outputs": [
    {
     "data": {
      "image/png": "[encoded data removed]",
      "text/plain": [
       "<Figure size 576x432 with 2 Axes>"
      ]
     },
     "metadata": {
      "needs_background": "light"
     },
     "output_type": "display_data"
    }
   ],
   "source": [
    "plt.figure(figsize=(8, 6))\n",
    "sns.heatmap(cf2, annot=True, fmt=\".1f\")\n",
    "plt.title('UnderSampling_Random Forest', fontsize=15)\n",
    "\n",
    "txt = 'Accuracy: {0}'.format(acc)\n",
    "txt2 = '\\n f1-Score: {0}'.format(f1)\n",
    "plt.xlabel(txt + txt2, fontsize=15)\n",
    "plt.show()"
   ]
  },
  {
   "cell_type": "code",
   "execution_count": 24,
   "metadata": {},
   "outputs": [
    {
     "data": {
      "text/plain": [
       "Counter({0: 48444, 1: 48444})"
      ]
     },
     "execution_count": 24,
     "metadata": {},
     "output_type": "execute_result"
    }
   ],
   "source": [
    "#OverSampling\n",
    "\n",
    "from imblearn.over_sampling import RandomOverSampler\n",
    "\n",
    "os = RandomOverSampler(random_state=0)\n",
    "X_train_os,y_train_os=os.fit_resample(X_train,y_train)\n",
    "\n",
    "Counter(y_train_os)"
   ]
  },
  {
   "cell_type": "code",
   "execution_count": 25,
   "metadata": {},
   "outputs": [
    {
     "name": "stdout",
     "output_type": "stream",
     "text": [
      "Accuracy:  100.0\n",
      "f1-score:  88.89\n",
      "              precision    recall  f1-score   support\n",
      "\n",
      "           0       1.00      1.00      1.00     20759\n",
      "           1       1.00      0.80      0.89         5\n",
      "\n",
      "    accuracy                           1.00     20764\n",
      "   macro avg       1.00      0.90      0.94     20764\n",
      "weighted avg       1.00      1.00      1.00     20764\n",
      "\n"
     ]
    }
   ],
   "source": [
    "#Random Forest\n",
    "\n",
    "rand2 = RandomForestClassifier()\n",
    "rand2.fit(X_train_os, y_train_os)\n",
    "\n",
    "\n",
    "y_pred=rand2.predict(X_test)\n",
    "\n",
    "acc = round((accuracy_score(y_test, y_pred)*100),2)\n",
    "accuracies['OS_RandomForest']=acc\n",
    "print('Accuracy: ', acc)\n",
    "\n",
    "f1=round((f1_score(y_test,y_pred)*100),2)\n",
    "f1scores['OS_RandomForest']=f1\n",
    "print('f1-score: ', f1)\n",
    "\n",
    "cf3 = confusion_matrix(y_test, y_pred)\n",
    "cf3\n",
    "print(classification_report(y_test,y_pred))"
   ]
  },
  {
   "cell_type": "code",
   "execution_count": 26,
   "metadata": {},
   "outputs": [
    {
     "data": {
      "image/png": "[encoded data removed]",
      "text/plain": [
       "<Figure size 576x432 with 2 Axes>"
      ]
     },
     "metadata": {
      "needs_background": "light"
     },
     "output_type": "display_data"
    }
   ],
   "source": [
    "plt.figure(figsize=(8, 6))\n",
    "sns.heatmap(cf3, annot=True, fmt=\".1f\")\n",
    "plt.title('OverSampling_RandomForest', fontsize=15)\n",
    "\n",
    "txt = 'Accuracy: {0}'.format(acc)\n",
    "txt2 = '\\n f1-Score: {0}'.format(f1)\n",
    "plt.xlabel(txt + txt2, fontsize=15)\n",
    "plt.show()"
   ]
  },
  {
   "cell_type": "code",
   "execution_count": 27,
   "metadata": {},
   "outputs": [
    {
     "name": "stdout",
     "output_type": "stream",
     "text": [
      "[22:43:00] WARNING: C:/Users/Administrator/workspace/xgboost-win64_release_1.3.0/src/learner.cc:1061: Starting in XGBoost 1.3.0, the default evaluation metric used with the objective 'binary:logistic' was changed from 'error' to 'logloss'. Explicitly set eval_metric if you'd like to restore the old behavior.\n",
      "Accuracy:  99.98\n",
      "f1-score:  33.33\n",
      "              precision    recall  f1-score   support\n",
      "\n",
      "           0       1.00      1.00      1.00     20759\n",
      "           1       1.00      0.20      0.33         5\n",
      "\n",
      "    accuracy                           1.00     20764\n",
      "   macro avg       1.00      0.60      0.67     20764\n",
      "weighted avg       1.00      1.00      1.00     20764\n",
      "\n"
     ]
    }
   ],
   "source": [
    "#XGBoost\n",
    "\n",
    "from xgboost import XGBClassifier\n",
    "xgb = XGBClassifier(random_state = 42, n_jobs = -1)\n",
    "xgb.fit(X_train, y_train)\n",
    "\n",
    "\n",
    "y_pred=xgb.predict(X_test)\n",
    "\n",
    "acc = round((accuracy_score(y_test, y_pred)*100),2)\n",
    "accuracies['XGBoost']=acc\n",
    "print('Accuracy: ', acc)\n",
    "\n",
    "f1=round((f1_score(y_test,y_pred)*100),2)\n",
    "f1scores['XGBoost']=f1\n",
    "print('f1-score: ', f1)\n",
    "\n",
    "cf8 = confusion_matrix(y_test, y_pred)\n",
    "cf8\n",
    "print(classification_report(y_test,y_pred))"
   ]
  },
  {
   "cell_type": "code",
   "execution_count": 28,
   "metadata": {},
   "outputs": [
    {
     "data": {
      "image/png": "[encoded data removed]",
      "text/plain": [
       "<Figure size 576x432 with 2 Axes>"
      ]
     },
     "metadata": {
      "needs_background": "light"
     },
     "output_type": "display_data"
    }
   ],
   "source": [
    "plt.figure(figsize=(8, 6))\n",
    "sns.heatmap(cf8, annot=True, fmt=\".1f\")\n",
    "plt.title('XGBoost', fontsize=15)\n",
    "\n",
    "txt = 'Accuracy: {0}'.format(acc)\n",
    "txt2 = '\\n f1-Score: {0}'.format(f1)\n",
    "plt.xlabel(txt + txt2, fontsize=15)\n",
    "plt.show()"
   ]
  },
  {
   "cell_type": "code",
   "execution_count": 29,
   "metadata": {},
   "outputs": [
    {
     "data": {
      "text/html": [
       "        <script type=\"text/javascript\">\n",
       "        window.PlotlyConfig = {MathJaxConfig: 'local'};\n",
       "        if (window.MathJax) {MathJax.Hub.Config({SVG: {font: \"STIX-Web\"}});}\n",
       "        if (typeof require !== 'undefined') {\n",
       "        require.undef(\"plotly\");\n",
       "        requirejs.config({\n",
       "            paths: {\n",
       "                'plotly': ['https://cdn.plot.ly/plotly-latest.min']\n",
       "            }\n",
       "        });\n",
       "        require(['plotly'], function(Plotly) {\n",
       "            window._Plotly = Plotly;\n",
       "        });\n",
       "        }\n",
       "        </script>\n",
       "        "
      ]
     },
     "metadata": {},
     "output_type": "display_data"
    },
    {
     "data": {
      "application/vnd.plotly.v1+json": {
       "config": {
        "linkText": "Export to plot.ly",
        "plotlyServerURL": "https://plot.ly",
        "showLink": false
       },
       "data": [
        {
         "marker": {
          "color": "rgba(0, 0, 255, 0.3)"
         },
         "name": "Accuracies",
         "text": [
          "Logistic",
          "Undersampling_RandomForest",
          "OS_RandomForest",
          "XGBoost"
         ],
         "type": "bar",
         "x": [
          "Logistic",
          "Undersampling_RandomForest",
          "OS_RandomForest",
          "XGBoost"
         ],
         "y": [
          99.98,
          87.92,
          100,
          99.98
         ]
        },
        {
         "marker": {
          "color": "rgba(0, 255, 0, 0.3)"
         },
         "name": "F1-Scores",
         "text": [
          "Logistic",
          "Undersampling_RandomForest",
          "OS_RandomForest",
          "XGBoost"
         ],
         "type": "bar",
         "x": [
          "Logistic",
          "Undersampling_RandomForest",
          "OS_RandomForest",
          "XGBoost"
         ],
         "y": [
          0,
          0.4,
          88.89,
          33.33
         ]
        }
       ],
       "layout": {
        "barmode": "group",
        "template": {
         "data": {
          "bar": [
           {
            "error_x": {
             "color": "#2a3f5f"
            },
            "error_y": {
             "color": "#2a3f5f"
            },
            "marker": {
             "line": {
              "color": "#E5ECF6",
              "width": 0.5
             }
            },
            "type": "bar"
           }
          ],
          "barpolar": [
           {
            "marker": {
             "line": {
              "color": "#E5ECF6",
              "width": 0.5
             }
            },
            "type": "barpolar"
           }
          ],
          "carpet": [
           {
            "aaxis": {
             "endlinecolor": "#2a3f5f",
             "gridcolor": "white",
             "linecolor": "white",
             "minorgridcolor": "white",
             "startlinecolor": "#2a3f5f"
            },
            "baxis": {
             "endlinecolor": "#2a3f5f",
             "gridcolor": "white",
             "linecolor": "white",
             "minorgridcolor": "white",
             "startlinecolor": "#2a3f5f"
            },
            "type": "carpet"
           }
          ],
          "choropleth": [
           {
            "colorbar": {
             "outlinewidth": 0,
             "ticks": ""
            },
            "type": "choropleth"
           }
          ],
          "contour": [
           {
            "colorbar": {
             "outlinewidth": 0,
             "ticks": ""
            },
            "colorscale": [
             [
              0,
              "#0d0887"
             ],
             [
              0.1111111111111111,
              "#46039f"
             ],
             [
              0.2222222222222222,
              "#7201a8"
             ],
             [
              0.3333333333333333,
              "#9c179e"
             ],
             [
              0.4444444444444444,
              "#bd3786"
             ],
             [
              0.5555555555555556,
              "#d8576b"
             ],
             [
              0.6666666666666666,
              "#ed7953"
             ],
             [
              0.7777777777777778,
              "#fb9f3a"
             ],
             [
              0.8888888888888888,
              "#fdca26"
             ],
             [
              1,
              "#f0f921"
             ]
            ],
            "type": "contour"
           }
          ],
          "contourcarpet": [
           {
            "colorbar": {
             "outlinewidth": 0,
             "ticks": ""
            },
            "type": "contourcarpet"
           }
          ],
          "heatmap": [
           {
            "colorbar": {
             "outlinewidth": 0,
             "ticks": ""
            },
            "colorscale": [
             [
              0,
              "#0d0887"
             ],
             [
              0.1111111111111111,
              "#46039f"
             ],
             [
              0.2222222222222222,
              "#7201a8"
             ],
             [
              0.3333333333333333,
              "#9c179e"
             ],
             [
              0.4444444444444444,
              "#bd3786"
             ],
             [
              0.5555555555555556,
              "#d8576b"
             ],
             [
              0.6666666666666666,
              "#ed7953"
             ],
             [
              0.7777777777777778,
              "#fb9f3a"
             ],
             [
              0.8888888888888888,
              "#fdca26"
             ],
             [
              1,
              "#f0f921"
             ]
            ],
            "type": "heatmap"
           }
          ],
          "heatmapgl": [
           {
            "colorbar": {
             "outlinewidth": 0,
             "ticks": ""
            },
            "colorscale": [
             [
              0,
              "#0d0887"
             ],
             [
              0.1111111111111111,
              "#46039f"
             ],
             [
              0.2222222222222222,
              "#7201a8"
             ],
             [
              0.3333333333333333,
              "#9c179e"
             ],
             [
              0.4444444444444444,
              "#bd3786"
             ],
             [
              0.5555555555555556,
              "#d8576b"
             ],
             [
              0.6666666666666666,
              "#ed7953"
             ],
             [
              0.7777777777777778,
              "#fb9f3a"
             ],
             [
              0.8888888888888888,
              "#fdca26"
             ],
             [
              1,
              "#f0f921"
             ]
            ],
            "type": "heatmapgl"
           }
          ],
          "histogram": [
           {
            "marker": {
             "colorbar": {
              "outlinewidth": 0,
              "ticks": ""
             }
            },
            "type": "histogram"
           }
          ],
          "histogram2d": [
           {
            "colorbar": {
             "outlinewidth": 0,
             "ticks": ""
            },
            "colorscale": [
             [
              0,
              "#0d0887"
             ],
             [
              0.1111111111111111,
              "#46039f"
             ],
             [
              0.2222222222222222,
              "#7201a8"
             ],
             [
              0.3333333333333333,
              "#9c179e"
             ],
             [
              0.4444444444444444,
              "#bd3786"
             ],
             [
              0.5555555555555556,
              "#d8576b"
             ],
             [
              0.6666666666666666,
              "#ed7953"
             ],
             [
              0.7777777777777778,
              "#fb9f3a"
             ],
             [
              0.8888888888888888,
              "#fdca26"
             ],
             [
              1,
              "#f0f921"
             ]
            ],
            "type": "histogram2d"
           }
          ],
          "histogram2dcontour": [
           {
            "colorbar": {
             "outlinewidth": 0,
             "ticks": ""
            },
            "colorscale": [
             [
              0,
              "#0d0887"
             ],
             [
              0.1111111111111111,
              "#46039f"
             ],
             [
              0.2222222222222222,
              "#7201a8"
             ],
             [
              0.3333333333333333,
              "#9c179e"
             ],
             [
              0.4444444444444444,
              "#bd3786"
             ],
             [
              0.5555555555555556,
              "#d8576b"
             ],
             [
              0.6666666666666666,
              "#ed7953"
             ],
             [
              0.7777777777777778,
              "#fb9f3a"
             ],
             [
              0.8888888888888888,
              "#fdca26"
             ],
             [
              1,
              "#f0f921"
             ]
            ],
            "type": "histogram2dcontour"
           }
          ],
          "mesh3d": [
           {
            "colorbar": {
             "outlinewidth": 0,
             "ticks": ""
            },
            "type": "mesh3d"
           }
          ],
          "parcoords": [
           {
            "line": {
             "colorbar": {
              "outlinewidth": 0,
              "ticks": ""
             }
            },
            "type": "parcoords"
           }
          ],
          "pie": [
           {
            "automargin": true,
            "type": "pie"
           }
          ],
          "scatter": [
           {
            "marker": {
             "colorbar": {
              "outlinewidth": 0,
              "ticks": ""
             }
            },
            "type": "scatter"
           }
          ],
          "scatter3d": [
           {
            "line": {
             "colorbar": {
              "outlinewidth": 0,
              "ticks": ""
             }
            },
            "marker": {
             "colorbar": {
              "outlinewidth": 0,
              "ticks": ""
             }
            },
            "type": "scatter3d"
           }
          ],
          "scattercarpet": [
           {
            "marker": {
             "colorbar": {
              "outlinewidth": 0,
              "ticks": ""
             }
            },
            "type": "scattercarpet"
           }
          ],
          "scattergeo": [
           {
            "marker": {
             "colorbar": {
              "outlinewidth": 0,
              "ticks": ""
             }
            },
            "type": "scattergeo"
           }
          ],
          "scattergl": [
           {
            "marker": {
             "colorbar": {
              "outlinewidth": 0,
              "ticks": ""
             }
            },
            "type": "scattergl"
           }
          ],
          "scattermapbox": [
           {
            "marker": {
             "colorbar": {
              "outlinewidth": 0,
              "ticks": ""
             }
            },
            "type": "scattermapbox"
           }
          ],
          "scatterpolar": [
           {
            "marker": {
             "colorbar": {
              "outlinewidth": 0,
              "ticks": ""
             }
            },
            "type": "scatterpolar"
           }
          ],
          "scatterpolargl": [
           {
            "marker": {
             "colorbar": {
              "outlinewidth": 0,
              "ticks": ""
             }
            },
            "type": "scatterpolargl"
           }
          ],
          "scatterternary": [
           {
            "marker": {
             "colorbar": {
              "outlinewidth": 0,
              "ticks": ""
             }
            },
            "type": "scatterternary"
           }
          ],
          "surface": [
           {
            "colorbar": {
             "outlinewidth": 0,
             "ticks": ""
            },
            "colorscale": [
             [
              0,
              "#0d0887"
             ],
             [
              0.1111111111111111,
              "#46039f"
             ],
             [
              0.2222222222222222,
              "#7201a8"
             ],
             [
              0.3333333333333333,
              "#9c179e"
             ],
             [
              0.4444444444444444,
              "#bd3786"
             ],
             [
              0.5555555555555556,
              "#d8576b"
             ],
             [
              0.6666666666666666,
              "#ed7953"
             ],
             [
              0.7777777777777778,
              "#fb9f3a"
             ],
             [
              0.8888888888888888,
              "#fdca26"
             ],
             [
              1,
              "#f0f921"
             ]
            ],
            "type": "surface"
           }
          ],
          "table": [
           {
            "cells": {
             "fill": {
              "color": "#EBF0F8"
             },
             "line": {
              "color": "white"
             }
            },
            "header": {
             "fill": {
              "color": "#C8D4E3"
             },
             "line": {
              "color": "white"
             }
            },
            "type": "table"
           }
          ]
         },
         "layout": {
          "annotationdefaults": {
           "arrowcolor": "#2a3f5f",
           "arrowhead": 0,
           "arrowwidth": 1
          },
          "autotypenumbers": "strict",
          "coloraxis": {
           "colorbar": {
            "outlinewidth": 0,
            "ticks": ""
           }
          },
          "colorscale": {
           "diverging": [
            [
             0,
             "#8e0152"
            ],
            [
             0.1,
             "#c51b7d"
            ],
            [
             0.2,
             "#de77ae"
            ],
            [
             0.3,
             "#f1b6da"
            ],
            [
             0.4,
             "#fde0ef"
            ],
            [
             0.5,
             "#f7f7f7"
            ],
            [
             0.6,
             "#e6f5d0"
            ],
            [
             0.7,
             "#b8e186"
            ],
            [
             0.8,
             "#7fbc41"
            ],
            [
             0.9,
             "#4d9221"
            ],
            [
             1,
             "#276419"
            ]
           ],
           "sequential": [
            [
             0,
             "#0d0887"
            ],
            [
             0.1111111111111111,
             "#46039f"
            ],
            [
             0.2222222222222222,
             "#7201a8"
            ],
            [
             0.3333333333333333,
             "#9c179e"
            ],
            [
             0.4444444444444444,
             "#bd3786"
            ],
            [
             0.5555555555555556,
             "#d8576b"
            ],
            [
             0.6666666666666666,
             "#ed7953"
            ],
            [
             0.7777777777777778,
             "#fb9f3a"
            ],
            [
             0.8888888888888888,
             "#fdca26"
            ],
            [
             1,
             "#f0f921"
            ]
           ],
           "sequentialminus": [
            [
             0,
             "#0d0887"
            ],
            [
             0.1111111111111111,
             "#46039f"
            ],
            [
             0.2222222222222222,
             "#7201a8"
            ],
            [
             0.3333333333333333,
             "#9c179e"
            ],
            [
             0.4444444444444444,
             "#bd3786"
            ],
            [
             0.5555555555555556,
             "#d8576b"
            ],
            [
             0.6666666666666666,
             "#ed7953"
            ],
            [
             0.7777777777777778,
             "#fb9f3a"
            ],
            [
             0.8888888888888888,
             "#fdca26"
            ],
            [
             1,
             "#f0f921"
            ]
           ]
          },
          "colorway": [
           "#636efa",
           "#EF553B",
           "#00cc96",
           "#ab63fa",
           "#FFA15A",
           "#19d3f3",
           "#FF6692",
           "#B6E880",
           "#FF97FF",
           "#FECB52"
          ],
          "font": {
           "color": "#2a3f5f"
          },
          "geo": {
           "bgcolor": "white",
           "lakecolor": "white",
           "landcolor": "#E5ECF6",
           "showlakes": true,
           "showland": true,
           "subunitcolor": "white"
          },
          "hoverlabel": {
           "align": "left"
          },
          "hovermode": "closest",
          "mapbox": {
           "style": "light"
          },
          "paper_bgcolor": "white",
          "plot_bgcolor": "#E5ECF6",
          "polar": {
           "angularaxis": {
            "gridcolor": "white",
            "linecolor": "white",
            "ticks": ""
           },
           "bgcolor": "#E5ECF6",
           "radialaxis": {
            "gridcolor": "white",
            "linecolor": "white",
            "ticks": ""
           }
          },
          "scene": {
           "xaxis": {
            "backgroundcolor": "#E5ECF6",
            "gridcolor": "white",
            "gridwidth": 2,
            "linecolor": "white",
            "showbackground": true,
            "ticks": "",
            "zerolinecolor": "white"
           },
           "yaxis": {
            "backgroundcolor": "#E5ECF6",
            "gridcolor": "white",
            "gridwidth": 2,
            "linecolor": "white",
            "showbackground": true,
            "ticks": "",
            "zerolinecolor": "white"
           },
           "zaxis": {
            "backgroundcolor": "#E5ECF6",
            "gridcolor": "white",
            "gridwidth": 2,
            "linecolor": "white",
            "showbackground": true,
            "ticks": "",
            "zerolinecolor": "white"
           }
          },
          "shapedefaults": {
           "line": {
            "color": "#2a3f5f"
           }
          },
          "ternary": {
           "aaxis": {
            "gridcolor": "white",
            "linecolor": "white",
            "ticks": ""
           },
           "baxis": {
            "gridcolor": "white",
            "linecolor": "white",
            "ticks": ""
           },
           "bgcolor": "#E5ECF6",
           "caxis": {
            "gridcolor": "white",
            "linecolor": "white",
            "ticks": ""
           }
          },
          "title": {
           "x": 0.05
          },
          "xaxis": {
           "automargin": true,
           "gridcolor": "white",
           "linecolor": "white",
           "ticks": "",
           "title": {
            "standoff": 15
           },
           "zerolinecolor": "white",
           "zerolinewidth": 2
          },
          "yaxis": {
           "automargin": true,
           "gridcolor": "white",
           "linecolor": "white",
           "ticks": "",
           "title": {
            "standoff": 15
           },
           "zerolinecolor": "white",
           "zerolinewidth": 2
          }
         }
        }
       }
      },
      "text/html": [
       "<div>                            <div id=\"141ec72c-eca8-4461-9795-75e1ed41cf8d\" class=\"plotly-graph-div\" style=\"height:525px; width:100%;\"></div>            <script type=\"text/javascript\">                require([\"plotly\"], function(Plotly) {                    window.PLOTLYENV=window.PLOTLYENV || {};                                    if (document.getElementById(\"141ec72c-eca8-4461-9795-75e1ed41cf8d\")) {                    Plotly.newPlot(                        \"141ec72c-eca8-4461-9795-75e1ed41cf8d\",                        [{\"marker\": {\"color\": \"rgba(0, 0, 255, 0.3)\"}, \"name\": \"Accuracies\", \"text\": [\"Logistic\", \"Undersampling_RandomForest\", \"OS_RandomForest\", \"XGBoost\"], \"type\": \"bar\", \"x\": [\"Logistic\", \"Undersampling_RandomForest\", \"OS_RandomForest\", \"XGBoost\"], \"y\": [99.98, 87.92, 100.0, 99.98]}, {\"marker\": {\"color\": \"rgba(0, 255, 0, 0.3)\"}, \"name\": \"F1-Scores\", \"text\": [\"Logistic\", \"Undersampling_RandomForest\", \"OS_RandomForest\", \"XGBoost\"], \"type\": \"bar\", \"x\": [\"Logistic\", \"Undersampling_RandomForest\", \"OS_RandomForest\", \"XGBoost\"], \"y\": [0.0, 0.4, 88.89, 33.33]}],                        {\"barmode\": \"group\", \"template\": {\"data\": {\"bar\": [{\"error_x\": {\"color\": \"#2a3f5f\"}, \"error_y\": {\"color\": \"#2a3f5f\"}, \"marker\": {\"line\": {\"color\": \"#E5ECF6\", \"width\": 0.5}}, \"type\": \"bar\"}], \"barpolar\": [{\"marker\": {\"line\": {\"color\": \"#E5ECF6\", \"width\": 0.5}}, \"type\": \"barpolar\"}], \"carpet\": [{\"aaxis\": {\"endlinecolor\": \"#2a3f5f\", \"gridcolor\": \"white\", \"linecolor\": \"white\", \"minorgridcolor\": \"white\", \"startlinecolor\": \"#2a3f5f\"}, \"baxis\": {\"endlinecolor\": \"#2a3f5f\", \"gridcolor\": \"white\", \"linecolor\": \"white\", \"minorgridcolor\": \"white\", \"startlinecolor\": \"#2a3f5f\"}, \"type\": \"carpet\"}], \"choropleth\": [{\"colorbar\": {\"outlinewidth\": 0, \"ticks\": \"\"}, \"type\": \"choropleth\"}], \"contour\": [{\"colorbar\": {\"outlinewidth\": 0, \"ticks\": \"\"}, \"colorscale\": [[0.0, \"#0d0887\"], [0.1111111111111111, \"#46039f\"], [0.2222222222222222, \"#7201a8\"], [0.3333333333333333, \"#9c179e\"], [0.4444444444444444, \"#bd3786\"], [0.5555555555555556, \"#d8576b\"], [0.6666666666666666, \"#ed7953\"], [0.7777777777777778, \"#fb9f3a\"], [0.8888888888888888, \"#fdca26\"], [1.0, \"#f0f921\"]], \"type\": \"contour\"}], \"contourcarpet\": [{\"colorbar\": {\"outlinewidth\": 0, \"ticks\": \"\"}, \"type\": \"contourcarpet\"}], \"heatmap\": [{\"colorbar\": {\"outlinewidth\": 0, \"ticks\": \"\"}, \"colorscale\": [[0.0, \"#0d0887\"], [0.1111111111111111, \"#46039f\"], [0.2222222222222222, \"#7201a8\"], [0.3333333333333333, \"#9c179e\"], [0.4444444444444444, \"#bd3786\"], [0.5555555555555556, \"#d8576b\"], [0.6666666666666666, \"#ed7953\"], [0.7777777777777778, \"#fb9f3a\"], [0.8888888888888888, \"#fdca26\"], [1.0, \"#f0f921\"]], \"type\": \"heatmap\"}], \"heatmapgl\": [{\"colorbar\": {\"outlinewidth\": 0, \"ticks\": \"\"}, \"colorscale\": [[0.0, \"#0d0887\"], [0.1111111111111111, \"#46039f\"], [0.2222222222222222, \"#7201a8\"], [0.3333333333333333, \"#9c179e\"], [0.4444444444444444, \"#bd3786\"], [0.5555555555555556, \"#d8576b\"], [0.6666666666666666, \"#ed7953\"], [0.7777777777777778, \"#fb9f3a\"], [0.8888888888888888, \"#fdca26\"], [1.0, \"#f0f921\"]], \"type\": \"heatmapgl\"}], \"histogram\": [{\"marker\": {\"colorbar\": {\"outlinewidth\": 0, \"ticks\": \"\"}}, \"type\": \"histogram\"}], \"histogram2d\": [{\"colorbar\": {\"outlinewidth\": 0, \"ticks\": \"\"}, \"colorscale\": [[0.0, \"#0d0887\"], [0.1111111111111111, \"#46039f\"], [0.2222222222222222, \"#7201a8\"], [0.3333333333333333, \"#9c179e\"], [0.4444444444444444, \"#bd3786\"], [0.5555555555555556, \"#d8576b\"], [0.6666666666666666, \"#ed7953\"], [0.7777777777777778, \"#fb9f3a\"], [0.8888888888888888, \"#fdca26\"], [1.0, \"#f0f921\"]], \"type\": \"histogram2d\"}], \"histogram2dcontour\": [{\"colorbar\": {\"outlinewidth\": 0, \"ticks\": \"\"}, \"colorscale\": [[0.0, \"#0d0887\"], [0.1111111111111111, \"#46039f\"], [0.2222222222222222, \"#7201a8\"], [0.3333333333333333, \"#9c179e\"], [0.4444444444444444, \"#bd3786\"], [0.5555555555555556, \"#d8576b\"], [0.6666666666666666, \"#ed7953\"], [0.7777777777777778, \"#fb9f3a\"], [0.8888888888888888, \"#fdca26\"], [1.0, \"#f0f921\"]], \"type\": \"histogram2dcontour\"}], \"mesh3d\": [{\"colorbar\": {\"outlinewidth\": 0, \"ticks\": \"\"}, \"type\": \"mesh3d\"}], \"parcoords\": [{\"line\": {\"colorbar\": {\"outlinewidth\": 0, \"ticks\": \"\"}}, \"type\": \"parcoords\"}], \"pie\": [{\"automargin\": true, \"type\": \"pie\"}], \"scatter\": [{\"marker\": {\"colorbar\": {\"outlinewidth\": 0, \"ticks\": \"\"}}, \"type\": \"scatter\"}], \"scatter3d\": [{\"line\": {\"colorbar\": {\"outlinewidth\": 0, \"ticks\": \"\"}}, \"marker\": {\"colorbar\": {\"outlinewidth\": 0, \"ticks\": \"\"}}, \"type\": \"scatter3d\"}], \"scattercarpet\": [{\"marker\": {\"colorbar\": {\"outlinewidth\": 0, \"ticks\": \"\"}}, \"type\": \"scattercarpet\"}], \"scattergeo\": [{\"marker\": {\"colorbar\": {\"outlinewidth\": 0, \"ticks\": \"\"}}, \"type\": \"scattergeo\"}], \"scattergl\": [{\"marker\": {\"colorbar\": {\"outlinewidth\": 0, \"ticks\": \"\"}}, \"type\": \"scattergl\"}], \"scattermapbox\": [{\"marker\": {\"colorbar\": {\"outlinewidth\": 0, \"ticks\": \"\"}}, \"type\": \"scattermapbox\"}], \"scatterpolar\": [{\"marker\": {\"colorbar\": {\"outlinewidth\": 0, \"ticks\": \"\"}}, \"type\": \"scatterpolar\"}], \"scatterpolargl\": [{\"marker\": {\"colorbar\": {\"outlinewidth\": 0, \"ticks\": \"\"}}, \"type\": \"scatterpolargl\"}], \"scatterternary\": [{\"marker\": {\"colorbar\": {\"outlinewidth\": 0, \"ticks\": \"\"}}, \"type\": \"scatterternary\"}], \"surface\": [{\"colorbar\": {\"outlinewidth\": 0, \"ticks\": \"\"}, \"colorscale\": [[0.0, \"#0d0887\"], [0.1111111111111111, \"#46039f\"], [0.2222222222222222, \"#7201a8\"], [0.3333333333333333, \"#9c179e\"], [0.4444444444444444, \"#bd3786\"], [0.5555555555555556, \"#d8576b\"], [0.6666666666666666, \"#ed7953\"], [0.7777777777777778, \"#fb9f3a\"], [0.8888888888888888, \"#fdca26\"], [1.0, \"#f0f921\"]], \"type\": \"surface\"}], \"table\": [{\"cells\": {\"fill\": {\"color\": \"#EBF0F8\"}, \"line\": {\"color\": \"white\"}}, \"header\": {\"fill\": {\"color\": \"#C8D4E3\"}, \"line\": {\"color\": \"white\"}}, \"type\": \"table\"}]}, \"layout\": {\"annotationdefaults\": {\"arrowcolor\": \"#2a3f5f\", \"arrowhead\": 0, \"arrowwidth\": 1}, \"autotypenumbers\": \"strict\", \"coloraxis\": {\"colorbar\": {\"outlinewidth\": 0, \"ticks\": \"\"}}, \"colorscale\": {\"diverging\": [[0, \"#8e0152\"], [0.1, \"#c51b7d\"], [0.2, \"#de77ae\"], [0.3, \"#f1b6da\"], [0.4, \"#fde0ef\"], [0.5, \"#f7f7f7\"], [0.6, \"#e6f5d0\"], [0.7, \"#b8e186\"], [0.8, \"#7fbc41\"], [0.9, \"#4d9221\"], [1, \"#276419\"]], \"sequential\": [[0.0, \"#0d0887\"], [0.1111111111111111, \"#46039f\"], [0.2222222222222222, \"#7201a8\"], [0.3333333333333333, \"#9c179e\"], [0.4444444444444444, \"#bd3786\"], [0.5555555555555556, \"#d8576b\"], [0.6666666666666666, \"#ed7953\"], [0.7777777777777778, \"#fb9f3a\"], [0.8888888888888888, \"#fdca26\"], [1.0, \"#f0f921\"]], \"sequentialminus\": [[0.0, \"#0d0887\"], [0.1111111111111111, \"#46039f\"], [0.2222222222222222, \"#7201a8\"], [0.3333333333333333, \"#9c179e\"], [0.4444444444444444, \"#bd3786\"], [0.5555555555555556, \"#d8576b\"], [0.6666666666666666, \"#ed7953\"], [0.7777777777777778, \"#fb9f3a\"], [0.8888888888888888, \"#fdca26\"], [1.0, \"#f0f921\"]]}, \"colorway\": [\"#636efa\", \"#EF553B\", \"#00cc96\", \"#ab63fa\", \"#FFA15A\", \"#19d3f3\", \"#FF6692\", \"#B6E880\", \"#FF97FF\", \"#FECB52\"], \"font\": {\"color\": \"#2a3f5f\"}, \"geo\": {\"bgcolor\": \"white\", \"lakecolor\": \"white\", \"landcolor\": \"#E5ECF6\", \"showlakes\": true, \"showland\": true, \"subunitcolor\": \"white\"}, \"hoverlabel\": {\"align\": \"left\"}, \"hovermode\": \"closest\", \"mapbox\": {\"style\": \"light\"}, \"paper_bgcolor\": \"white\", \"plot_bgcolor\": \"#E5ECF6\", \"polar\": {\"angularaxis\": {\"gridcolor\": \"white\", \"linecolor\": \"white\", \"ticks\": \"\"}, \"bgcolor\": \"#E5ECF6\", \"radialaxis\": {\"gridcolor\": \"white\", \"linecolor\": \"white\", \"ticks\": \"\"}}, \"scene\": {\"xaxis\": {\"backgroundcolor\": \"#E5ECF6\", \"gridcolor\": \"white\", \"gridwidth\": 2, \"linecolor\": \"white\", \"showbackground\": true, \"ticks\": \"\", \"zerolinecolor\": \"white\"}, \"yaxis\": {\"backgroundcolor\": \"#E5ECF6\", \"gridcolor\": \"white\", \"gridwidth\": 2, \"linecolor\": \"white\", \"showbackground\": true, \"ticks\": \"\", \"zerolinecolor\": \"white\"}, \"zaxis\": {\"backgroundcolor\": \"#E5ECF6\", \"gridcolor\": \"white\", \"gridwidth\": 2, \"linecolor\": \"white\", \"showbackground\": true, \"ticks\": \"\", \"zerolinecolor\": \"white\"}}, \"shapedefaults\": {\"line\": {\"color\": \"#2a3f5f\"}}, \"ternary\": {\"aaxis\": {\"gridcolor\": \"white\", \"linecolor\": \"white\", \"ticks\": \"\"}, \"baxis\": {\"gridcolor\": \"white\", \"linecolor\": \"white\", \"ticks\": \"\"}, \"bgcolor\": \"#E5ECF6\", \"caxis\": {\"gridcolor\": \"white\", \"linecolor\": \"white\", \"ticks\": \"\"}}, \"title\": {\"x\": 0.05}, \"xaxis\": {\"automargin\": true, \"gridcolor\": \"white\", \"linecolor\": \"white\", \"ticks\": \"\", \"title\": {\"standoff\": 15}, \"zerolinecolor\": \"white\", \"zerolinewidth\": 2}, \"yaxis\": {\"automargin\": true, \"gridcolor\": \"white\", \"linecolor\": \"white\", \"ticks\": \"\", \"title\": {\"standoff\": 15}, \"zerolinecolor\": \"white\", \"zerolinewidth\": 2}}}},                        {\"responsive\": true}                    ).then(function(){\n",
       "                            \n",
       "var gd = document.getElementById('141ec72c-eca8-4461-9795-75e1ed41cf8d');\n",
       "var x = new MutationObserver(function (mutations, observer) {{\n",
       "        var display = window.getComputedStyle(gd).display;\n",
       "        if (!display || display === 'none') {{\n",
       "            console.log([gd, 'removed!']);\n",
       "            Plotly.purge(gd);\n",
       "            observer.disconnect();\n",
       "        }}\n",
       "}});\n",
       "\n",
       "// Listen for the removal of the full notebook cells\n",
       "var notebookContainer = gd.closest('#notebook-container');\n",
       "if (notebookContainer) {{\n",
       "    x.observe(notebookContainer, {childList: true});\n",
       "}}\n",
       "\n",
       "// Listen for the clearing of the current output cell\n",
       "var outputEl = gd.closest('.output');\n",
       "if (outputEl) {{\n",
       "    x.observe(outputEl, {childList: true});\n",
       "}}\n",
       "\n",
       "                        })                };                });            </script>        </div>"
      ]
     },
     "metadata": {},
     "output_type": "display_data"
    }
   ],
   "source": [
    "#Plot to compare the accuracies and f1 scores\n",
    "\n",
    "import plotly as py\n",
    "import plotly.graph_objs as go\n",
    "from plotly.offline import init_notebook_mode, iplot, plot\n",
    "init_notebook_mode(connected=True)\n",
    "from plotly import tools,subplots\n",
    "\n",
    "Bar1 = go.Bar(x = list(accuracies.keys()), \n",
    "              y = list(accuracies.values()), \n",
    "              name = \"Accuracies\", \n",
    "              marker = dict(color = 'rgba(0, 0, 255, 0.3)'), \n",
    "              text = list(f1scores.keys()))\n",
    "\n",
    "Bar2 = go.Bar(x = list(f1scores.keys()), \n",
    "              y = list(f1scores.values()), \n",
    "              name = \"F1-Scores\", \n",
    "              marker = dict(color = 'rgba(0, 255, 0, 0.3)'), \n",
    "              text = list(f1scores.keys()))\n",
    "\n",
    "data = [Bar1, Bar2]\n",
    "layout = go.Layout(barmode = \"group\")\n",
    "fig = go.Figure(data = data, layout = layout)\n",
    "iplot(fig)"
   ]
  },
  {
   "cell_type": "code",
   "execution_count": 30,
   "metadata": {},
   "outputs": [
    {
     "data": {
      "text/html": [
       "<div>\n",
       "<style scoped>\n",
       "    .dataframe tbody tr th:only-of-type {\n",
       "        vertical-align: middle;\n",
       "    }\n",
       "\n",
       "    .dataframe tbody tr th {\n",
       "        vertical-align: top;\n",
       "    }\n",
       "\n",
       "    .dataframe thead th {\n",
       "        text-align: right;\n",
       "    }\n",
       "</style>\n",
       "<table border=\"1\" class=\"dataframe\">\n",
       "  <thead>\n",
       "    <tr style=\"text-align: right;\">\n",
       "      <th></th>\n",
       "      <th>date_time</th>\n",
       "      <th>inverter_id</th>\n",
       "      <th>ac_frequency</th>\n",
       "      <th>active_power</th>\n",
       "      <th>pv_current</th>\n",
       "      <th>pv_volt</th>\n",
       "      <th>reactive_power</th>\n",
       "      <th>daily_energy</th>\n",
       "      <th>ac_current</th>\n",
       "      <th>avg_ac_volt</th>\n",
       "      <th>module_temp</th>\n",
       "      <th>ambient_temp</th>\n",
       "      <th>wind_speed</th>\n",
       "      <th>irradiance</th>\n",
       "      <th>alarm_name</th>\n",
       "      <th>alarm_message</th>\n",
       "    </tr>\n",
       "  </thead>\n",
       "  <tbody>\n",
       "    <tr>\n",
       "      <th>0</th>\n",
       "      <td>2021-01-01 06:30:00</td>\n",
       "      <td>9</td>\n",
       "      <td>0.0</td>\n",
       "      <td>0.0</td>\n",
       "      <td>4.8</td>\n",
       "      <td>13.08</td>\n",
       "      <td>0.0</td>\n",
       "      <td>0.0</td>\n",
       "      <td>0.0</td>\n",
       "      <td>0.09</td>\n",
       "      <td>7.07</td>\n",
       "      <td>9.78</td>\n",
       "      <td>0.28</td>\n",
       "      <td>0.0</td>\n",
       "      <td>NaN</td>\n",
       "      <td>NaN</td>\n",
       "    </tr>\n",
       "    <tr>\n",
       "      <th>1</th>\n",
       "      <td>2021-01-01 06:35:00</td>\n",
       "      <td>9</td>\n",
       "      <td>0.0</td>\n",
       "      <td>0.0</td>\n",
       "      <td>4.8</td>\n",
       "      <td>13.22</td>\n",
       "      <td>0.0</td>\n",
       "      <td>0.0</td>\n",
       "      <td>0.0</td>\n",
       "      <td>0.14</td>\n",
       "      <td>7.17</td>\n",
       "      <td>9.80</td>\n",
       "      <td>0.28</td>\n",
       "      <td>0.0</td>\n",
       "      <td>NaN</td>\n",
       "      <td>NaN</td>\n",
       "    </tr>\n",
       "    <tr>\n",
       "      <th>2</th>\n",
       "      <td>2021-01-01 06:40:00</td>\n",
       "      <td>9</td>\n",
       "      <td>0.0</td>\n",
       "      <td>0.0</td>\n",
       "      <td>4.8</td>\n",
       "      <td>13.80</td>\n",
       "      <td>0.0</td>\n",
       "      <td>0.0</td>\n",
       "      <td>0.0</td>\n",
       "      <td>0.11</td>\n",
       "      <td>7.12</td>\n",
       "      <td>9.79</td>\n",
       "      <td>0.28</td>\n",
       "      <td>0.0</td>\n",
       "      <td>NaN</td>\n",
       "      <td>NaN</td>\n",
       "    </tr>\n",
       "    <tr>\n",
       "      <th>3</th>\n",
       "      <td>2021-01-01 06:45:00</td>\n",
       "      <td>9</td>\n",
       "      <td>0.0</td>\n",
       "      <td>0.0</td>\n",
       "      <td>4.8</td>\n",
       "      <td>14.96</td>\n",
       "      <td>0.0</td>\n",
       "      <td>0.0</td>\n",
       "      <td>0.0</td>\n",
       "      <td>0.12</td>\n",
       "      <td>6.94</td>\n",
       "      <td>9.76</td>\n",
       "      <td>0.28</td>\n",
       "      <td>0.0</td>\n",
       "      <td>NaN</td>\n",
       "      <td>NaN</td>\n",
       "    </tr>\n",
       "    <tr>\n",
       "      <th>4</th>\n",
       "      <td>2021-01-01 06:50:00</td>\n",
       "      <td>9</td>\n",
       "      <td>0.0</td>\n",
       "      <td>0.0</td>\n",
       "      <td>4.8</td>\n",
       "      <td>30.10</td>\n",
       "      <td>0.0</td>\n",
       "      <td>0.0</td>\n",
       "      <td>0.0</td>\n",
       "      <td>0.12</td>\n",
       "      <td>6.69</td>\n",
       "      <td>9.75</td>\n",
       "      <td>0.28</td>\n",
       "      <td>0.0</td>\n",
       "      <td>NaN</td>\n",
       "      <td>NaN</td>\n",
       "    </tr>\n",
       "  </tbody>\n",
       "</table>\n",
       "</div>"
      ],
      "text/plain": [
       "            date_time  inverter_id  ac_frequency  active_power  pv_current  \\\n",
       "0 2021-01-01 06:30:00            9           0.0           0.0         4.8   \n",
       "1 2021-01-01 06:35:00            9           0.0           0.0         4.8   \n",
       "2 2021-01-01 06:40:00            9           0.0           0.0         4.8   \n",
       "3 2021-01-01 06:45:00            9           0.0           0.0         4.8   \n",
       "4 2021-01-01 06:50:00            9           0.0           0.0         4.8   \n",
       "\n",
       "   pv_volt  reactive_power  daily_energy  ac_current  avg_ac_volt  \\\n",
       "0    13.08             0.0           0.0         0.0         0.09   \n",
       "1    13.22             0.0           0.0         0.0         0.14   \n",
       "2    13.80             0.0           0.0         0.0         0.11   \n",
       "3    14.96             0.0           0.0         0.0         0.12   \n",
       "4    30.10             0.0           0.0         0.0         0.12   \n",
       "\n",
       "   module_temp  ambient_temp  wind_speed  irradiance alarm_name alarm_message  \n",
       "0         7.07          9.78        0.28         0.0        NaN           NaN  \n",
       "1         7.17          9.80        0.28         0.0        NaN           NaN  \n",
       "2         7.12          9.79        0.28         0.0        NaN           NaN  \n",
       "3         6.94          9.76        0.28         0.0        NaN           NaN  \n",
       "4         6.69          9.75        0.28         0.0        NaN           NaN  "
      ]
     },
     "execution_count": 30,
     "metadata": {},
     "output_type": "execute_result"
    }
   ],
   "source": [
    "#test data\n",
    "\n",
    "test = pd.read_excel(\"test_data.xlsx\")\n",
    "test.head()"
   ]
  },
  {
   "cell_type": "code",
   "execution_count": 31,
   "metadata": {},
   "outputs": [
    {
     "data": {
      "text/html": [
       "<div>\n",
       "<style scoped>\n",
       "    .dataframe tbody tr th:only-of-type {\n",
       "        vertical-align: middle;\n",
       "    }\n",
       "\n",
       "    .dataframe tbody tr th {\n",
       "        vertical-align: top;\n",
       "    }\n",
       "\n",
       "    .dataframe thead th {\n",
       "        text-align: right;\n",
       "    }\n",
       "</style>\n",
       "<table border=\"1\" class=\"dataframe\">\n",
       "  <thead>\n",
       "    <tr style=\"text-align: right;\">\n",
       "      <th></th>\n",
       "      <th>ac_frequency</th>\n",
       "      <th>active_power</th>\n",
       "      <th>pv_current</th>\n",
       "      <th>pv_volt</th>\n",
       "      <th>reactive_power</th>\n",
       "      <th>daily_energy</th>\n",
       "      <th>ac_current</th>\n",
       "      <th>avg_ac_volt</th>\n",
       "      <th>module_temp</th>\n",
       "      <th>ambient_temp</th>\n",
       "      <th>wind_speed</th>\n",
       "      <th>irradiance</th>\n",
       "    </tr>\n",
       "  </thead>\n",
       "  <tbody>\n",
       "    <tr>\n",
       "      <th>0</th>\n",
       "      <td>0.0</td>\n",
       "      <td>0.0</td>\n",
       "      <td>4.8</td>\n",
       "      <td>13.08</td>\n",
       "      <td>0.0</td>\n",
       "      <td>0.0</td>\n",
       "      <td>0.0</td>\n",
       "      <td>0.09</td>\n",
       "      <td>7.07</td>\n",
       "      <td>9.78</td>\n",
       "      <td>0.28</td>\n",
       "      <td>0.0</td>\n",
       "    </tr>\n",
       "    <tr>\n",
       "      <th>1</th>\n",
       "      <td>0.0</td>\n",
       "      <td>0.0</td>\n",
       "      <td>4.8</td>\n",
       "      <td>13.22</td>\n",
       "      <td>0.0</td>\n",
       "      <td>0.0</td>\n",
       "      <td>0.0</td>\n",
       "      <td>0.14</td>\n",
       "      <td>7.17</td>\n",
       "      <td>9.80</td>\n",
       "      <td>0.28</td>\n",
       "      <td>0.0</td>\n",
       "    </tr>\n",
       "    <tr>\n",
       "      <th>2</th>\n",
       "      <td>0.0</td>\n",
       "      <td>0.0</td>\n",
       "      <td>4.8</td>\n",
       "      <td>13.80</td>\n",
       "      <td>0.0</td>\n",
       "      <td>0.0</td>\n",
       "      <td>0.0</td>\n",
       "      <td>0.11</td>\n",
       "      <td>7.12</td>\n",
       "      <td>9.79</td>\n",
       "      <td>0.28</td>\n",
       "      <td>0.0</td>\n",
       "    </tr>\n",
       "  </tbody>\n",
       "</table>\n",
       "</div>"
      ],
      "text/plain": [
       "   ac_frequency  active_power  pv_current  pv_volt  reactive_power  \\\n",
       "0           0.0           0.0         4.8    13.08             0.0   \n",
       "1           0.0           0.0         4.8    13.22             0.0   \n",
       "2           0.0           0.0         4.8    13.80             0.0   \n",
       "\n",
       "   daily_energy  ac_current  avg_ac_volt  module_temp  ambient_temp  \\\n",
       "0           0.0         0.0         0.09         7.07          9.78   \n",
       "1           0.0         0.0         0.14         7.17          9.80   \n",
       "2           0.0         0.0         0.11         7.12          9.79   \n",
       "\n",
       "   wind_speed  irradiance  \n",
       "0        0.28         0.0  \n",
       "1        0.28         0.0  \n",
       "2        0.28         0.0  "
      ]
     },
     "execution_count": 31,
     "metadata": {},
     "output_type": "execute_result"
    }
   ],
   "source": [
    "test1 = test.drop(['date_time', 'alarm_name', 'alarm_message', 'inverter_id'], axis=1)\n",
    "test1.head(3)"
   ]
  },
  {
   "cell_type": "code",
   "execution_count": 32,
   "metadata": {},
   "outputs": [
    {
     "data": {
      "text/plain": [
       "array([[-2.8715811 , -1.58763532, -1.51984781, ..., -2.15257654,\n",
       "        -0.45805801, -1.95489917],\n",
       "       [-2.8715811 , -1.58763532, -1.51984781, ..., -2.1496699 ,\n",
       "        -0.45805801, -1.95489917],\n",
       "       [-2.8715811 , -1.58763532, -1.51984781, ..., -2.15112322,\n",
       "        -0.45805801, -1.95489917],\n",
       "       ...,\n",
       "       [ 0.35264117, -1.57848901, -1.50072709, ..., -0.51032611,\n",
       "        -0.45805801, -1.95489917],\n",
       "       [ 0.35264117, -1.57848901, -1.50072709, ..., -0.51032611,\n",
       "        -0.45805801, -1.95489917],\n",
       "       [ 0.34941759, -1.58763532, -1.52417159, ..., -0.57572546,\n",
       "        -0.45805801, -1.95489917]])"
      ]
     },
     "execution_count": 32,
     "metadata": {},
     "output_type": "execute_result"
    }
   ],
   "source": [
    "test2 = sc.transform(test1)\n",
    "test2"
   ]
  },
  {
   "cell_type": "code",
   "execution_count": 40,
   "metadata": {},
   "outputs": [
    {
     "data": {
      "text/plain": [
       "array([0, 0, 0, ..., 0, 0, 0], dtype=int64)"
      ]
     },
     "execution_count": 40,
     "metadata": {},
     "output_type": "execute_result"
    }
   ],
   "source": [
    "#Choosing OS_Random_Forest\n",
    "\n",
    "y_pred = rand2.predict(test2)\n",
    "y_pred"
   ]
  },
  {
   "cell_type": "code",
   "execution_count": 41,
   "metadata": {},
   "outputs": [
    {
     "data": {
      "text/html": [
       "<div>\n",
       "<style scoped>\n",
       "    .dataframe tbody tr th:only-of-type {\n",
       "        vertical-align: middle;\n",
       "    }\n",
       "\n",
       "    .dataframe tbody tr th {\n",
       "        vertical-align: top;\n",
       "    }\n",
       "\n",
       "    .dataframe thead th {\n",
       "        text-align: right;\n",
       "    }\n",
       "</style>\n",
       "<table border=\"1\" class=\"dataframe\">\n",
       "  <thead>\n",
       "    <tr style=\"text-align: right;\">\n",
       "      <th></th>\n",
       "      <th>date_time</th>\n",
       "      <th>inverter_id</th>\n",
       "      <th>ac_frequency</th>\n",
       "      <th>active_power</th>\n",
       "      <th>pv_current</th>\n",
       "      <th>pv_volt</th>\n",
       "      <th>reactive_power</th>\n",
       "      <th>daily_energy</th>\n",
       "      <th>ac_current</th>\n",
       "      <th>avg_ac_volt</th>\n",
       "      <th>module_temp</th>\n",
       "      <th>ambient_temp</th>\n",
       "      <th>wind_speed</th>\n",
       "      <th>irradiance</th>\n",
       "      <th>alarm_name</th>\n",
       "      <th>alarm_message</th>\n",
       "      <th>Predictions</th>\n",
       "    </tr>\n",
       "  </thead>\n",
       "  <tbody>\n",
       "    <tr>\n",
       "      <th>0</th>\n",
       "      <td>2021-01-01 06:30:00</td>\n",
       "      <td>9</td>\n",
       "      <td>0.0</td>\n",
       "      <td>0.0</td>\n",
       "      <td>4.8</td>\n",
       "      <td>13.08</td>\n",
       "      <td>0.0</td>\n",
       "      <td>0.0</td>\n",
       "      <td>0.0</td>\n",
       "      <td>0.09</td>\n",
       "      <td>7.07</td>\n",
       "      <td>9.78</td>\n",
       "      <td>0.28</td>\n",
       "      <td>0.0</td>\n",
       "      <td>NaN</td>\n",
       "      <td>NaN</td>\n",
       "      <td>0</td>\n",
       "    </tr>\n",
       "    <tr>\n",
       "      <th>1</th>\n",
       "      <td>2021-01-01 06:35:00</td>\n",
       "      <td>9</td>\n",
       "      <td>0.0</td>\n",
       "      <td>0.0</td>\n",
       "      <td>4.8</td>\n",
       "      <td>13.22</td>\n",
       "      <td>0.0</td>\n",
       "      <td>0.0</td>\n",
       "      <td>0.0</td>\n",
       "      <td>0.14</td>\n",
       "      <td>7.17</td>\n",
       "      <td>9.80</td>\n",
       "      <td>0.28</td>\n",
       "      <td>0.0</td>\n",
       "      <td>NaN</td>\n",
       "      <td>NaN</td>\n",
       "      <td>0</td>\n",
       "    </tr>\n",
       "    <tr>\n",
       "      <th>2</th>\n",
       "      <td>2021-01-01 06:40:00</td>\n",
       "      <td>9</td>\n",
       "      <td>0.0</td>\n",
       "      <td>0.0</td>\n",
       "      <td>4.8</td>\n",
       "      <td>13.80</td>\n",
       "      <td>0.0</td>\n",
       "      <td>0.0</td>\n",
       "      <td>0.0</td>\n",
       "      <td>0.11</td>\n",
       "      <td>7.12</td>\n",
       "      <td>9.79</td>\n",
       "      <td>0.28</td>\n",
       "      <td>0.0</td>\n",
       "      <td>NaN</td>\n",
       "      <td>NaN</td>\n",
       "      <td>0</td>\n",
       "    </tr>\n",
       "  </tbody>\n",
       "</table>\n",
       "</div>"
      ],
      "text/plain": [
       "            date_time  inverter_id  ac_frequency  active_power  pv_current  \\\n",
       "0 2021-01-01 06:30:00            9           0.0           0.0         4.8   \n",
       "1 2021-01-01 06:35:00            9           0.0           0.0         4.8   \n",
       "2 2021-01-01 06:40:00            9           0.0           0.0         4.8   \n",
       "\n",
       "   pv_volt  reactive_power  daily_energy  ac_current  avg_ac_volt  \\\n",
       "0    13.08             0.0           0.0         0.0         0.09   \n",
       "1    13.22             0.0           0.0         0.0         0.14   \n",
       "2    13.80             0.0           0.0         0.0         0.11   \n",
       "\n",
       "   module_temp  ambient_temp  wind_speed  irradiance alarm_name alarm_message  \\\n",
       "0         7.07          9.78        0.28         0.0        NaN           NaN   \n",
       "1         7.17          9.80        0.28         0.0        NaN           NaN   \n",
       "2         7.12          9.79        0.28         0.0        NaN           NaN   \n",
       "\n",
       "   Predictions  \n",
       "0            0  \n",
       "1            0  \n",
       "2            0  "
      ]
     },
     "execution_count": 41,
     "metadata": {},
     "output_type": "execute_result"
    }
   ],
   "source": [
    "pred_out = pd.concat([test, pd.DataFrame({'Predictions': y_pred})], axis=1)\n",
    "pred_out.head(3)"
   ]
  },
  {
   "cell_type": "code",
   "execution_count": null,
   "metadata": {},
   "outputs": [],
   "source": []
  }
 ],
 "metadata": {
  "kernelspec": {
   "display_name": "Python 3",
   "language": "python",
   "name": "python3"
  },
  "language_info": {
   "codemirror_mode": {
    "name": "ipython",
    "version": 3
   },
   "file_extension": ".py",
   "mimetype": "text/x-python",
   "name": "python",
   "nbconvert_exporter": "python",
   "pygments_lexer": "ipython3",
   "version": "3.8.5"
  }
 },
 "nbformat": 4,
 "nbformat_minor": 4
}
